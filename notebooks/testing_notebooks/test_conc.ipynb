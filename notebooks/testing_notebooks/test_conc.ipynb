{
 "cells": [
  {
   "cell_type": "code",
   "execution_count": 1,
   "metadata": {},
   "outputs": [],
   "source": [
    "import sys, os\n",
    "import numpy as np\n",
    "import torch\n",
    "dev = torch.device(\"cuda\")\n",
    "import torch.optim as optim\n",
    "root_dir = '/mnt/home/spandey/ceph/CHARM/'\n",
    "os.chdir(root_dir)\n",
    "# import colossus\n",
    "import sys, os\n",
    "# append the root_dir to the path\n",
    "sys.path.append(root_dir)\n",
    "from charm.utils_data_prep_cosmo_vel_conc_peak import *\n",
    "from colossus.cosmology import cosmology\n",
    "params = {'flat': True, 'H0': 67.11, 'Om0': 0.3175, 'Ob0': 0.049, 'sigma8': 0.834, 'ns': 0.9624}\n",
    "cosmo = cosmology.setCosmology('myCosmo', **params)\n",
    "# get halo mass function:\n",
    "from colossus.lss import mass_function\n",
    "from tqdm import tqdm\n",
    "    \n",
    "import yaml\n",
    "import pickle as pk\n",
    "# autoreload modules\n",
    "import matplotlib\n",
    "import matplotlib.pyplot as pl\n",
    "\n",
    "abs_path_config = os.path.abspath(root_dir + \"run_configs/\") \n",
    "abs_path_data = os.path.abspath(root_dir + \"data/\") \n",
    "abs_path_checkpoint = os.path.abspath(root_dir + \"model_checkpoints/\") \n",
    "%load_ext autoreload\n",
    "%autoreload 2\n",
    "\n",
    "\n"
   ]
  },
  {
   "cell_type": "code",
   "execution_count": 2,
   "metadata": {},
   "outputs": [],
   "source": [
    "run_config_name = 'TRAIN_CONC_FREECOSMO_cond_fastpm_ns128_200c.yaml'\n",
    "with open(abs_path_config + '/' + run_config_name,\"r\") as file_object:\n",
    "    config=yaml.load(file_object,Loader=yaml.SafeLoader)\n",
    "\n",
    "\n",
    "config_sims = config['sim_settings']\n",
    "ji_array = np.arange(int(config_sims['nsims']))\n",
    "nsubvol_per_ji = int(config_sims['nsubvol_per_ji'])\n",
    "nsubvol_fid = int(config_sims['nsubvol_fid'])\n",
    "subsel_criteria = config_sims['subsel_criteria']\n",
    "num_cosmo_params = int(config_sims['num_cosmo_params'])\n",
    "ns_d = config_sims['ns_d']\n",
    "nb = config_sims['nb']\n",
    "nax_d =  ns_d // nb\n",
    "nf = config_sims['nf']\n",
    "layers_types = config_sims['layers_types']\n",
    "z_inference = config_sims['z_inference']\n",
    "nc = 0\n",
    "for jl in range(len(layers_types)):\n",
    "    if layers_types[jl] == 'cnn':\n",
    "        nc += 1\n",
    "    elif layers_types[jl] == 'res':\n",
    "        nc += 2\n",
    "    else:\n",
    "        raise ValueError(\"layer type not supported\")\n",
    "\n",
    "z_all = config_sims['z_all']\n",
    "z_all_FP = config_sims['z_all_FP']\n",
    "\n",
    "ns_h = config_sims['ns_h']\n",
    "nax_h = ns_h // nb\n",
    "cond_sim = config_sims['cond_sim']\n",
    "\n",
    "nsims_per_batch = config_sims['nsims_per_batch']\n",
    "nbatches_train = config_sims['nbatches_train']\n",
    "\n",
    "mass_type = config_sims['mass_type']\n",
    "lgMmin = config_sims['lgMmin']\n",
    "lgMmax = config_sims['lgMmax']\n",
    "stype = config_sims['stype']\n",
    "rescale_sub = config_sims['rescale_sub']\n",
    "lgMmincutstr = config_sims['lgMmincutstr']\n",
    "# subsel_highM1 = config_sims['subsel_highM1']\n",
    "# nsubsel = config_sims['nsubsel']\n",
    "is_HR = config_sims['is_HR']\n",
    "\n",
    "try:\n",
    "    Nmax = config_sims['Nmax']\n",
    "except:\n",
    "    Nmax = 4\n",
    "\n",
    "config_net = config['network_settings']\n",
    "hidden_dim_MAF = config_net['hidden_dim_MAF']\n",
    "learning_rate = config_net['learning_rate']\n",
    "# K_M1 = config_net['K_M1']\n",
    "# B_M1 = config_net['B_M1']\n",
    "# nflows_M1_NSF = config_net['nflows_M1_NSF']\n",
    "\n",
    "K_conc = config_net['K_conc']\n",
    "B_conc = config_net['B_conc']\n",
    "nflows_conc_NSF = config_net['nflows_conc_NSF']\n",
    "\n",
    "# base_dist_Ntot = config_net['base_dist_Ntot']\n",
    "# if base_dist_Ntot == 'None':\n",
    "#     base_dist_Ntot = None\n",
    "# base_dist_M1 = config_net['base_dist_M1']\n",
    "base_dist_conc = config_net['base_dist_conc']\n",
    "\n",
    "cond_Mass_for_conc = config_net['cond_Mass_for_conc']\n",
    "\n",
    "# ngauss_M1 = config_net['ngauss_M1']\n",
    "\n",
    "changelr = config_net['changelr']\n",
    "ksize = nf\n",
    "nfeature_cnn = config_net['nfeature_cnn']\n",
    "nout_cnn = 4 * nfeature_cnn\n",
    "if cond_sim == 'fastpm':\n",
    "    if any('v' in str(string) for string in z_all_FP):\n",
    "        ninp = len(z_all_FP) + 2\n",
    "    else:\n",
    "        ninp = len(z_all_FP)\n",
    "\n",
    "elif cond_sim == 'quijote':\n",
    "    ninp = len(z_all)\n",
    "else:\n",
    "    raise ValueError(\"cond_sim not supported\")\n",
    "\n",
    "num_cond = nout_cnn + ninp + num_cosmo_params\n",
    "\n"
   ]
  },
  {
   "cell_type": "code",
   "execution_count": 3,
   "metadata": {},
   "outputs": [],
   "source": [
    "import pickle as pk\n",
    "# df = pk.load(open('/mnt/home/spandey/ceph/CHARM/data/HALO_MASS_VEL_varycosmo_subsel_random_nsims1800_nspji16_nfid512_train_data_QUIJOTE.pk', 'rb'))\n",
    "# df = pk.load(open(abs_path_data + '/' + 'HALO_MASS_test14656_QUIJOTE_test.pk', 'rb'))\n",
    "df = pk.load(open(abs_path_data + '/' + 'HALO_MASS_rockstar_200c_VEL_NU_CONC_varycosmo_subsel_random_nsims1800_nspji16_nfid512_train_data_QUIJOTE.pk', 'rb'))    \n",
    "\n",
    "df_d_all_train = df['df_d_all_train']\n",
    "df_d_all_nsh_train = df['df_d_all_nsh_train']\n",
    "df_Mh_all_train = df['df_Mh_all_train'].todense()\n",
    "df_Nh_train = df['df_Nh_train'].todense()\n",
    "# df_vh_train = df['df_vh_train'].todense()\n",
    "# df_nuh_train = df['df_nuh_train'].todense()\n",
    "df_ch_train = df['df_ch_train'].todense()\n",
    "ind_subsel_all_train = df['ind_subsel_all_train']\n",
    "ind_subsel_fid_train = df['ind_subsel_fid_train']\n",
    "cosmo_val_all_train = df['cosmo_val_all_train']\n",
    "\n",
    "\n",
    "\n"
   ]
  },
  {
   "cell_type": "code",
   "execution_count": 5,
   "metadata": {},
   "outputs": [
    {
     "data": {
      "text/plain": [
       "(29312, 16, 16, 16)"
      ]
     },
     "execution_count": 5,
     "metadata": {},
     "output_type": "execute_result"
    }
   ],
   "source": [
    "df_Nh_train.shape\n",
    "\n",
    "\n"
   ]
  },
  {
   "cell_type": "code",
   "execution_count": 7,
   "metadata": {},
   "outputs": [
    {
     "data": {
      "text/plain": [
       "229.0"
      ]
     },
     "execution_count": 7,
     "metadata": {},
     "output_type": "execute_result"
    }
   ],
   "source": [
    "# 192*128\n",
    "29312/128\n"
   ]
  },
  {
   "cell_type": "code",
   "execution_count": null,
   "metadata": {},
   "outputs": [],
   "source": [
    "# nsims_per_batch, nbatches_train = 250, 4\n",
    "return_dict_train = prep_density_halo_cats_batched(\n",
    "    df_d_all_train, df_d_all_nsh_train, df_Mh_all_train, df_Nh_train,cosmo_val_all_train, df_v_inp=None, df_c_inp=df_ch_train, nsims=nsims_per_batch,\n",
    "    nbatches = nbatches_train, Mmin=lgMmin, Mmax=lgMmax, rescaleM_sub=rescale_sub, Nmax=Nmax, get_density=False, get_halos=True\n",
    "    )\n",
    "\n",
    "\n"
   ]
  },
  {
   "cell_type": "code",
   "execution_count": 4,
   "metadata": {},
   "outputs": [],
   "source": [
    "import pickle as pk\n",
    "df = pk.load(open(abs_path_data + '/' + 'DENSITY_varycosmo_subsel_random_nsims1800_nspji16_nfid512_train_data_FASTPM.pk', 'rb'))\n",
    "# df = pk.load(open(abs_path_data + '/' + 'DENSITY_test14656_FASTPM_test.pk', 'rb'))\n",
    "# df = pk.load(open(abs_path_data + '/' + 'DENSITY_test11000_FASTPM_test.pk', 'rb'))\n",
    "df_d_all_train_FP = df['df_d_all_train']\n",
    "df_d_all_nsh_train_FP = df['df_d_all_nsh_train']\n",
    "df_Mh_all_train_FP = df['df_Mh_all_train']\n",
    "df_Nh_train_FP = df['df_Nh_train']\n",
    "try:\n",
    "    df_vh_train_FP = df['df_vh_train']\n",
    "except:\n",
    "    df_vh_train_FP = None\n",
    "    pass\n",
    "ind_subsel_all_train_FP = df['ind_subsel_all_train']\n",
    "ind_subsel_fid_train_FP = df['ind_subsel_fid_train']\n",
    "cosmo_val_all_train_FP = df['cosmo_val_all_train']\n",
    "\n",
    "\n",
    "# # Prepare the density and halo data\n",
    "return_dict_train_FP = prep_density_halo_cats_batched(\n",
    "    df_d_all_train_FP, df_d_all_nsh_train_FP, df_Mh_all_train_FP, df_Nh_train_FP, cosmo_val_all_train_FP, df_v_inp=df_vh_train_FP, nsims=nsims_per_batch,\n",
    "    nbatches = nbatches_train, Mmin=lgMmin, Mmax=lgMmax, rescaleM_sub=rescale_sub, get_density=True, get_halos=False\n",
    "    )\n",
    "\n",
    "if return_dict_train_FP is not None:\n",
    "    cond_tensor = torch.Tensor(np.array(return_dict_train_FP['df_d_all']))\n",
    "    cond_nsh = np.moveaxis(np.array(return_dict_train_FP['df_d_all_nsh']), 2, 5)\n",
    "    cond_tensor_nsh = torch.Tensor((cond_nsh)).reshape(-1, nsims_per_batch * (nax_h ** 3), ninp)\n",
    "    \n",
    "    cond_cosmo = torch.Tensor(np.array(return_dict_train_FP['cosmo_val_all']))\n",
    "    cond_cosmo = cond_cosmo.reshape(-1, nsims_per_batch * (nax_h**3), cond_cosmo.shape[-1])\n",
    "else:\n",
    "    cond_tensor = torch.Tensor(np.array(return_dict_train['df_d_all']))\n",
    "    cond_nsh = np.moveaxis(np.array(return_dict_train['df_d_all_nsh']), 2, 5)\n",
    "    cond_tensor_nsh = torch.Tensor((cond_nsh)).reshape(-1, nsims_per_batch * (nax_h ** 3), ninp)\n",
    "\n",
    "    cond_cosmo = torch.Tensor(np.array(return_dict_train['cosmo_val_all']))\n",
    "    cond_cosmo = cond_cosmo.reshape(-1, nsims_per_batch * (nax_h**3), cond_cosmo.shape[-1])\n",
    "\n",
    "\n"
   ]
  },
  {
   "cell_type": "code",
   "execution_count": 5,
   "metadata": {},
   "outputs": [
    {
     "data": {
      "text/plain": [
       "torch.Size([64, 96, 4, 24, 24, 24])"
      ]
     },
     "execution_count": 5,
     "metadata": {},
     "output_type": "execute_result"
    }
   ],
   "source": [
    "cond_tensor.shape\n",
    "\n"
   ]
  },
  {
   "cell_type": "code",
   "execution_count": 6,
   "metadata": {},
   "outputs": [],
   "source": [
    "# import pickle as pk\n",
    "# import numpy as np\n",
    "\n",
    "# df_d_all_train, df_d_all_nsh_train, df_Mh_all_train, df_Nh_train, df_vh_train, df_ch_train, ind_subsel_all_train, ind_subsel_fid_train, cosmo_val_all_train = load_density_halo_data_NGP(\n",
    "#     ji_array, ns_d, nb, nf, nc, z_all, ns_h,z_inference=z_inference,nsubvol_per_ji=nsubvol_per_ji,nsubvol_fid=nsubvol_fid,\n",
    "#     sdir_cosmo='/mnt/home/spandey/ceph/Quijote/data_NGP_self_LH',\n",
    "#     sdir_fid='/mnt/home/spandey/ceph/Quijote/data_NGP_self',  \n",
    "#     LH_cosmo_val_file='/mnt/home/spandey/ceph/Quijote/latin_hypercube_params.txt',  \n",
    "#     stype=stype, mass_type=mass_type, lgMmincutstr = lgMmincutstr, subsel_criteria=subsel_criteria, is_HR = is_HR,  vel_type='diff',conc_type='diff',\n",
    "#     get_density=False, \n",
    "#     get_halos=True\n",
    "#     )\n",
    "\n"
   ]
  },
  {
   "cell_type": "code",
   "execution_count": 7,
   "metadata": {},
   "outputs": [],
   "source": [
    "# df_Mh_all_train.shape, df_Nh_train.shape, df_vh_train.shape, df_ch_train.shape, ind_subsel_fid_train.shape, cosmo_val_all_train.shape\n",
    "# df_d_all_train.shape, df_d_all_nsh_train.shape, \n",
    "\n"
   ]
  },
  {
   "cell_type": "code",
   "execution_count": 8,
   "metadata": {},
   "outputs": [],
   "source": [
    "# df_d_all_train_FP, df_d_all_nsh_train_FP, df_Mh_all_train_FP, df_Nh_train_FP, df_vh_train_FP, df_ch_train_FP, ind_subsel_all_train_FP, ind_subsel_fid_train_FP, cosmo_val_all_train_FP = load_density_halo_data_NGP(\n",
    "#     ji_array, ns_d, nb, nf, nc, z_all_FP, ns_h,z_inference=z_inference,nsubvol_per_ji=nsubvol_per_ji,nsubvol_fid=nsubvol_fid,\n",
    "#     sdir_cosmo='/mnt/home/spandey/ceph/Quijote/data_NGP_self_fastpm_LH',\n",
    "#     sdir_fid='/mnt/home/spandey/ceph/Quijote/data_NGP_self/fastpm',  \n",
    "#     LH_cosmo_val_file='/mnt/home/spandey/ceph/Quijote/latin_hypercube_params.txt',  \n",
    "#     stype=stype, mass_type=mass_type, lgMmincutstr = lgMmincutstr, subsel_criteria=subsel_criteria,\n",
    "#     indsubsel_all_inp=ind_subsel_all_train,\n",
    "#     indsubsel_fid_inp=ind_subsel_fid_train,\n",
    "#     is_HR = is_HR,  vel_type='diff',\n",
    "#     get_density=True,\n",
    "#     get_halos=False\n",
    "#     )\n",
    "# if cosmo_val_all_train_FP is None:\n",
    "#     cosmo_val_all_train_FP = cosmo_val_all_train\n",
    "\n",
    "\n"
   ]
  },
  {
   "cell_type": "code",
   "execution_count": 9,
   "metadata": {},
   "outputs": [
    {
     "data": {
      "text/plain": [
       "((29312, 4, 24, 24, 24), (29312, 4, 16, 16, 16))"
      ]
     },
     "execution_count": 9,
     "metadata": {},
     "output_type": "execute_result"
    }
   ],
   "source": [
    "df_d_all_train_FP.shape, df_d_all_nsh_train_FP.shape\n",
    "\n"
   ]
  },
  {
   "cell_type": "code",
   "execution_count": 10,
   "metadata": {},
   "outputs": [],
   "source": [
    "# saved = {'df_d_all_train':df_d_all_train_FP,\n",
    "#             'df_d_all_nsh_train':df_d_all_nsh_train_FP,\n",
    "#             'df_Mh_all_train':df_Mh_all_train_FP,\n",
    "#             'df_Nh_train':df_Nh_train_FP,\n",
    "#             'df_vh_train_FP':df_vh_train_FP,\n",
    "#             'ind_subsel_all_train':ind_subsel_all_train_FP,\n",
    "#             'ind_subsel_fid_train':ind_subsel_fid_train_FP,\n",
    "#             'cosmo_val_all_train':cosmo_val_all_train_FP\n",
    "#             }\n",
    "\n",
    "# import pickle as pk\n",
    "# nsims = int(config_sims['nsims'])\n",
    "# pk.dump(saved, open('/mnt/home/spandey/ceph/CHARM/data/' + f'DENSITY_varycosmo_subsel_random_nsims{nsims}_nspji{nsubvol_per_ji}_nfid{nsubvol_fid}' + '_train_data_FASTPM.pk', 'wb'))\n"
   ]
  },
  {
   "cell_type": "code",
   "execution_count": 11,
   "metadata": {},
   "outputs": [],
   "source": [
    "# import sparse\n",
    "# saved = {'df_d_all_train':df_d_all_train,\n",
    "#             'df_d_all_nsh_train':df_d_all_nsh_train,\n",
    "#             'df_Mh_all_train':sparse.COO(df_Mh_all_train),\n",
    "#             'df_Nh_train':sparse.COO(df_Nh_train),\n",
    "#             'df_vh_train':sparse.COO(df_vh_train),\n",
    "#             'ind_subsel_all_train':ind_subsel_all_train,\n",
    "#             'ind_subsel_fid_train':ind_subsel_fid_train,\n",
    "#             'cosmo_val_all_train':cosmo_val_all_train\n",
    "#             }\n",
    "\n",
    "# import pickle as pk\n",
    "# nsims = int(config_sims['nsims'])\n",
    "# pk.dump(saved, open('/mnt/home/spandey/ceph/CHARM/data/' + f'HALO_MASS_{mass_type}_VEL_varycosmo_subsel_random_nsims{nsims}_nspji{nsubvol_per_ji}_nfid{nsubvol_fid}' + '_train_data_QUIJOTE.pk', 'wb'))\n",
    "\n"
   ]
  },
  {
   "cell_type": "code",
   "execution_count": 12,
   "metadata": {},
   "outputs": [],
   "source": [
    "import sys, os\n",
    "import torch\n",
    "import torch.distributed as dist\n",
    "import yaml\n",
    "from torch.nn.parallel import DistributedDataParallel as DDP\n",
    "import time\n",
    "os.environ['TORCH_DISTRIBUTED_DEBUG'] = 'DETAIL'\n",
    "os.environ['NCCL_BLOCKING_WAIT'] = '0'\n",
    "from datetime import timedelta\n",
    "import torch\n",
    "import torch.nn as nn\n",
    "from torch.nn.parallel import DistributedDataParallel as DDP\n",
    "import torch.optim as optim\n",
    "import torch.distributed as dist\n",
    "import torch.optim as optim\n",
    "import pickle as pk\n",
    "from charm.combined_models import *\n",
    "from charm.all_models import *\n",
    "from charm.utils_data_prep_cosmo_vel_conc_peak import *\n",
    "from colossus.cosmology import cosmology\n",
    "params = {'flat': True, 'H0': 67.11, 'Om0': 0.3175, 'Ob0': 0.049, 'sigma8': 0.834, 'ns': 0.9624}\n",
    "cosmo = cosmology.setCosmology('myCosmo', **params)\n",
    "from colossus.lss import mass_function\n",
    "from tqdm import tqdm\n",
    "import sparse\n",
    "import numpy as np\n",
    "import h5py as h5\n",
    "# get directory of this file, absolute path:\n",
    "import pathlib\n",
    "curr_path = pathlib.Path().absolute()\n",
    "\n",
    "\n"
   ]
  },
  {
   "cell_type": "code",
   "execution_count": 47,
   "metadata": {},
   "outputs": [],
   "source": []
  },
  {
   "cell_type": "code",
   "execution_count": 48,
   "metadata": {},
   "outputs": [
    {
     "data": {
      "text/plain": [
       "29"
      ]
     },
     "execution_count": 48,
     "metadata": {},
     "output_type": "execute_result"
    }
   ],
   "source": [
    "num_cond\n",
    "\n"
   ]
  },
  {
   "cell_type": "code",
   "execution_count": 13,
   "metadata": {},
   "outputs": [],
   "source": [
    "# # nsims_per_batch, nbatches_train = 250, 4\n",
    "# return_dict_train = prep_density_halo_cats_batched(\n",
    "#     df_d_all_train, df_d_all_nsh_train, df_Mh_all_train, df_Nh_train,cosmo_val_all_train, df_v_inp=df_vh_train, df_c_inp=df_ch_train, nsims=nsims_per_batch,\n",
    "#     nbatches = nbatches_train, Mmin=lgMmin, Mmax=lgMmax, rescaleM_sub=rescale_sub, Nmax=Nmax, get_density=False, get_halos=True\n",
    "#     )\n",
    "\n",
    "\n",
    "# # # Prepare the density and halo data\n",
    "# return_dict_train_FP = prep_density_halo_cats_batched(\n",
    "#     df_d_all_train_FP, df_d_all_nsh_train_FP, df_Mh_all_train_FP, df_Nh_train_FP, cosmo_val_all_train_FP, df_v_inp=df_vh_train_FP, df_c_inp=df_ch_train_FP, nsims=nsims_per_batch,\n",
    "#     nbatches = nbatches_train, Mmin=lgMmin, Mmax=lgMmax, rescaleM_sub=rescale_sub, get_density=True, get_halos=False\n",
    "#     )\n",
    "\n",
    "# if return_dict_train_FP is not None:\n",
    "#     cond_tensor = torch.Tensor(np.array(return_dict_train_FP['df_d_all']))\n",
    "#     cond_nsh = np.moveaxis(np.array(return_dict_train_FP['df_d_all_nsh']), 2, 5)\n",
    "#     cond_tensor_nsh = torch.Tensor((cond_nsh)).reshape(-1, nsims_per_batch * (nax_h ** 3), ninp)\n",
    "    \n",
    "#     cond_cosmo = torch.Tensor(np.array(return_dict_train_FP['cosmo_val_all']))\n",
    "#     cond_cosmo = cond_cosmo.reshape(-1, nsims_per_batch * (nax_h**3), cond_cosmo.shape[-1])\n",
    "# else:\n",
    "#     cond_tensor = torch.Tensor(np.array(return_dict_train['df_d_all']))\n",
    "#     cond_nsh = np.moveaxis(np.array(return_dict_train['df_d_all_nsh']), 2, 5)\n",
    "#     cond_tensor_nsh = torch.Tensor((cond_nsh)).reshape(-1, nsims_per_batch * (nax_h ** 3), ninp)\n",
    "\n",
    "#     cond_cosmo = torch.Tensor(np.array(return_dict_train['cosmo_val_all']))\n",
    "#     cond_cosmo = cond_cosmo.reshape(-1, nsims_per_batch * (nax_h**3), cond_cosmo.shape[-1])\n",
    "\n",
    "\n",
    "ndim_mass = Nmax\n",
    "ndim_conc = Nmax\n",
    "\n",
    "c_halos_all = return_dict_train['c_halos_all_sort_norm'].reshape(*return_dict_train['c_halos_all_sort_norm'].shape[:-2],-1)\n",
    "# v_halos_all = return_dict_train['v_halos_all_sort_norm'].reshape(*return_dict_train['v_halos_all_sort_norm'].shape[:-2],-1)\n",
    "M_halos_all = return_dict_train['M_halos_all_sort_norm'].reshape(*return_dict_train['M_halos_all_sort_norm'].shape[:-2],-1)\n",
    "\n",
    "mask_conc = return_dict_train['mask_vel']\n",
    "# mask_vel_repeat = np.repeat(mask_vel[..., None], 3, axis=-1)\n",
    "# mask_vel_repeat = mask_vel_repeat.reshape(*mask_vel_repeat.shape[:-2],-1)\n",
    "# mask_tensor_vel_train = torch.Tensor((mask_vel_repeat)).reshape(-1, nsims_per_batch * (nax_h**3), ndim_vel)\n",
    "mask_tensor_conc_train = torch.Tensor((mask_conc)).reshape(-1, nsims_per_batch * (nax_h**3), ndim_conc)\n",
    "\n",
    "X_conc = torch.Tensor(np.array(c_halos_all)).reshape(-1, nsims_per_batch * (nax_h**3),ndim_conc)\n",
    "Nhalos_truth_tensor = torch.Tensor(((np.array(return_dict_train['N_halos_all'])))).reshape(-1, nsims_per_batch * (nax_h**3), 1)\n",
    "Mhalos_truth_tensor = torch.Tensor(((np.array(M_halos_all)))).reshape(-1, nsims_per_batch * (nax_h**3), ndim_mass)\n"
   ]
  },
  {
   "cell_type": "code",
   "execution_count": 14,
   "metadata": {},
   "outputs": [
    {
     "data": {
      "text/plain": [
       "True"
      ]
     },
     "execution_count": 14,
     "metadata": {},
     "output_type": "execute_result"
    }
   ],
   "source": [
    "cond_Mass_for_conc\n"
   ]
  },
  {
   "cell_type": "code",
   "execution_count": 15,
   "metadata": {},
   "outputs": [],
   "source": [
    "# num_cond_conc = num_cond\n",
    "if cond_Mass_for_conc:\n",
    "    num_cond_conc = num_cond + ndim_mass\n",
    "else:\n",
    "    num_cond_conc = num_cond\n",
    "model_conc = NSF_Autoreg_CNNcond(\n",
    "    dim=ndim_conc,\n",
    "    K=K_conc,\n",
    "    B=B_conc,\n",
    "    hidden_dim=hidden_dim_MAF,\n",
    "    num_cond=num_cond_conc,\n",
    "    nflows=nflows_conc_NSF,\n",
    "    base_dist=base_dist_conc,\n",
    "    mu_pos=False\n",
    "    )\n",
    "\n",
    "\n",
    "# ndim = ndim_diff + 1\n",
    "model = COMBINED_Model_conc_only(\n",
    "    None,\n",
    "    model_conc,\n",
    "    ndim_conc,\n",
    "    ksize,\n",
    "    ns_d,\n",
    "    ns_h,\n",
    "    nb,\n",
    "    ninp,\n",
    "    nfeature_cnn,\n",
    "    nout_cnn,\n",
    "    layers_types=layers_types,\n",
    "    act='tanh',\n",
    "    padding='valid',\n",
    "    ).to(dev)\n",
    "\n",
    "optimizer = torch.optim.AdamW(model.parameters(), lr=learning_rate)\n",
    "\n",
    "scaler = torch.cuda.amp.GradScaler()\n",
    "\n",
    "\n"
   ]
  },
  {
   "cell_type": "code",
   "execution_count": 16,
   "metadata": {},
   "outputs": [
    {
     "data": {
      "text/plain": [
       "41"
      ]
     },
     "execution_count": 16,
     "metadata": {},
     "output_type": "execute_result"
    }
   ],
   "source": [
    "# ndim_conc\n",
    "num_cond_conc\n"
   ]
  },
  {
   "cell_type": "code",
   "execution_count": 17,
   "metadata": {},
   "outputs": [],
   "source": [
    "X_conc_jb = X_conc.to(dev)\n",
    "Nhalos_truth_tensor_jb = Nhalos_truth_tensor.to(dev)\n",
    "Mhalos_truth_tensor_jb = Mhalos_truth_tensor.to(dev)\n",
    "mask_tensor_conc_train_jb = mask_tensor_conc_train.to(dev)\n",
    "cond_tensor_jb = cond_tensor.to(dev)\n",
    "cond_tensor_nsh_jb = cond_tensor_nsh.to(dev)\n",
    "cond_cosmo_jb = cond_cosmo.to(dev)\n",
    "mask_tensor_conc_train_jb = mask_tensor_conc_train.to(dev)\n"
   ]
  },
  {
   "cell_type": "code",
   "execution_count": 18,
   "metadata": {},
   "outputs": [
    {
     "data": {
      "image/png": "[encoded data removed]",
      "text/plain": [
       "<Figure size 640x480 with 1 Axes>"
      ]
     },
     "metadata": {},
     "output_type": "display_data"
    }
   ],
   "source": [
    "pl.figure()\n",
    "conc_inp = X_conc_jb.detach().cpu().numpy().flatten()\n",
    "indsel = np.where(conc_inp != 0.5)[0]\n",
    "_ = pl.hist(conc_inp[indsel], range=(0,1), bins=100, alpha=0.5, label='sampled')\n",
    "# conc_out = conc_samp_out.flatten()\n",
    "# indsel = np.where(conc_out != 0)[0]\n",
    "# _ = pl.hist(conc_out[indsel], range=(0,1), bins=100, alpha=0.5, label='sampled')\n",
    "# pl.yscale('log')\n",
    "\n",
    "\n"
   ]
  },
  {
   "cell_type": "code",
   "execution_count": 19,
   "metadata": {},
   "outputs": [
    {
     "name": "stderr",
     "output_type": "stream",
     "text": [
      "/mnt/home/spandey/miniconda3/envs/ili-sbi/lib/python3.10/site-packages/torch/nn/modules/conv.py:605: UserWarning: Plan failed with a cudnnException: CUDNN_BACKEND_EXECUTION_PLAN_DESCRIPTOR: cudnnFinalize Descriptor Failed cudnn_status: CUDNN_STATUS_NOT_SUPPORTED (Triggered internally at ../aten/src/ATen/native/cudnn/Conv_v8.cpp:919.)\n",
      "  return F.conv3d(\n"
     ]
    },
    {
     "name": "stdout",
     "output_type": "stream",
     "text": [
      "iter 0, loss: 146.6631317138672\n",
      "146.6631317138672\n",
      "iter 10, loss: 136.9097900390625\n",
      "114.79971313476562\n",
      "iter 20, loss: 107.41851806640625\n",
      "iter 30, loss: 54.94834899902344\n"
     ]
    },
    {
     "ename": "KeyboardInterrupt",
     "evalue": "",
     "output_type": "error",
     "traceback": [
      "\u001b[0;31m---------------------------------------------------------------------------\u001b[0m",
      "\u001b[0;31mKeyboardInterrupt\u001b[0m                         Traceback (most recent call last)",
      "Cell \u001b[0;32mIn[19], line 50\u001b[0m\n\u001b[1;32m     46\u001b[0m \u001b[38;5;28;01mfor\u001b[39;00m param_group \u001b[38;5;129;01min\u001b[39;00m optimizer\u001b[38;5;241m.\u001b[39mparam_groups:\n\u001b[1;32m     47\u001b[0m     param_group[\u001b[38;5;124m'\u001b[39m\u001b[38;5;124mlr\u001b[39m\u001b[38;5;124m'\u001b[39m] \u001b[38;5;241m=\u001b[39m lr\n\u001b[0;32m---> 50\u001b[0m loss \u001b[38;5;241m=\u001b[39m \u001b[43mmodel\u001b[49m\u001b[43m(\u001b[49m\n\u001b[1;32m     51\u001b[0m \u001b[43m    \u001b[49m\u001b[43mX_conc_jb\u001b[49m\u001b[43m,\u001b[49m\n\u001b[1;32m     52\u001b[0m \u001b[43m    \u001b[49m\u001b[43mcond_tensor_jb\u001b[49m\u001b[43m,\u001b[49m\n\u001b[1;32m     53\u001b[0m \u001b[43m    \u001b[49m\u001b[43mcond_tensor_nsh_jb\u001b[49m\u001b[43m,\u001b[49m\n\u001b[1;32m     54\u001b[0m \u001b[43m    \u001b[49m\u001b[43mcond_cosmo_jb\u001b[49m\u001b[43m,\u001b[49m\n\u001b[1;32m     55\u001b[0m \u001b[43m    \u001b[49m\u001b[43mNhalos_truth_tensor_jb\u001b[49m\u001b[43m,\u001b[49m\n\u001b[1;32m     56\u001b[0m \u001b[43m    \u001b[49m\u001b[43mMhalos_truth_tensor_jb\u001b[49m\u001b[43m,\u001b[49m\n\u001b[1;32m     57\u001b[0m \u001b[43m    \u001b[49m\u001b[38;5;66;43;03m# None,\u001b[39;49;00m\n\u001b[1;32m     58\u001b[0m \u001b[43m    \u001b[49m\u001b[43mmask_tensor_conc_train_jb\u001b[49m\u001b[43m         \u001b[49m\n\u001b[1;32m     59\u001b[0m \u001b[43m    \u001b[49m\u001b[43m)\u001b[49m            \n\u001b[1;32m     61\u001b[0m \u001b[38;5;66;03m# if (rank == 0) and (iter_num == 0):\u001b[39;00m\n\u001b[1;32m     62\u001b[0m \u001b[38;5;66;03m#     print('GPU memory usage after calling model forward once:')\u001b[39;00m\n\u001b[1;32m     63\u001b[0m \u001b[38;5;66;03m#     for i in range(torch.cuda.device_count()):\u001b[39;00m\n\u001b[1;32m     64\u001b[0m \u001b[38;5;66;03m#         print(f\"GPU {i}:\")\u001b[39;00m\n\u001b[1;32m     65\u001b[0m \u001b[38;5;66;03m#         print(f\"  Allocated: {torch.cuda.memory_allocated(i) / 1024 ** 2:.2f} MB\")\u001b[39;00m\n\u001b[1;32m     66\u001b[0m \u001b[38;5;66;03m#         print(f\"  Reserved:  {torch.cuda.memory_reserved(i) / 1024 ** 2:.2f} MB\")\u001b[39;00m\n\u001b[1;32m     68\u001b[0m scaler\u001b[38;5;241m.\u001b[39mscale(loss)\u001b[38;5;241m.\u001b[39mbackward()   \n",
      "File \u001b[0;32m~/miniconda3/envs/ili-sbi/lib/python3.10/site-packages/torch/nn/modules/module.py:1532\u001b[0m, in \u001b[0;36mModule._wrapped_call_impl\u001b[0;34m(self, *args, **kwargs)\u001b[0m\n\u001b[1;32m   1530\u001b[0m     \u001b[38;5;28;01mreturn\u001b[39;00m \u001b[38;5;28mself\u001b[39m\u001b[38;5;241m.\u001b[39m_compiled_call_impl(\u001b[38;5;241m*\u001b[39margs, \u001b[38;5;241m*\u001b[39m\u001b[38;5;241m*\u001b[39mkwargs)  \u001b[38;5;66;03m# type: ignore[misc]\u001b[39;00m\n\u001b[1;32m   1531\u001b[0m \u001b[38;5;28;01melse\u001b[39;00m:\n\u001b[0;32m-> 1532\u001b[0m     \u001b[38;5;28;01mreturn\u001b[39;00m \u001b[38;5;28;43mself\u001b[39;49m\u001b[38;5;241;43m.\u001b[39;49m\u001b[43m_call_impl\u001b[49m\u001b[43m(\u001b[49m\u001b[38;5;241;43m*\u001b[39;49m\u001b[43margs\u001b[49m\u001b[43m,\u001b[49m\u001b[43m \u001b[49m\u001b[38;5;241;43m*\u001b[39;49m\u001b[38;5;241;43m*\u001b[39;49m\u001b[43mkwargs\u001b[49m\u001b[43m)\u001b[49m\n",
      "File \u001b[0;32m~/miniconda3/envs/ili-sbi/lib/python3.10/site-packages/torch/nn/modules/module.py:1541\u001b[0m, in \u001b[0;36mModule._call_impl\u001b[0;34m(self, *args, **kwargs)\u001b[0m\n\u001b[1;32m   1536\u001b[0m \u001b[38;5;66;03m# If we don't have any hooks, we want to skip the rest of the logic in\u001b[39;00m\n\u001b[1;32m   1537\u001b[0m \u001b[38;5;66;03m# this function, and just call forward.\u001b[39;00m\n\u001b[1;32m   1538\u001b[0m \u001b[38;5;28;01mif\u001b[39;00m \u001b[38;5;129;01mnot\u001b[39;00m (\u001b[38;5;28mself\u001b[39m\u001b[38;5;241m.\u001b[39m_backward_hooks \u001b[38;5;129;01mor\u001b[39;00m \u001b[38;5;28mself\u001b[39m\u001b[38;5;241m.\u001b[39m_backward_pre_hooks \u001b[38;5;129;01mor\u001b[39;00m \u001b[38;5;28mself\u001b[39m\u001b[38;5;241m.\u001b[39m_forward_hooks \u001b[38;5;129;01mor\u001b[39;00m \u001b[38;5;28mself\u001b[39m\u001b[38;5;241m.\u001b[39m_forward_pre_hooks\n\u001b[1;32m   1539\u001b[0m         \u001b[38;5;129;01mor\u001b[39;00m _global_backward_pre_hooks \u001b[38;5;129;01mor\u001b[39;00m _global_backward_hooks\n\u001b[1;32m   1540\u001b[0m         \u001b[38;5;129;01mor\u001b[39;00m _global_forward_hooks \u001b[38;5;129;01mor\u001b[39;00m _global_forward_pre_hooks):\n\u001b[0;32m-> 1541\u001b[0m     \u001b[38;5;28;01mreturn\u001b[39;00m \u001b[43mforward_call\u001b[49m\u001b[43m(\u001b[49m\u001b[38;5;241;43m*\u001b[39;49m\u001b[43margs\u001b[49m\u001b[43m,\u001b[49m\u001b[43m \u001b[49m\u001b[38;5;241;43m*\u001b[39;49m\u001b[38;5;241;43m*\u001b[39;49m\u001b[43mkwargs\u001b[49m\u001b[43m)\u001b[49m\n\u001b[1;32m   1543\u001b[0m \u001b[38;5;28;01mtry\u001b[39;00m:\n\u001b[1;32m   1544\u001b[0m     result \u001b[38;5;241m=\u001b[39m \u001b[38;5;28;01mNone\u001b[39;00m\n",
      "File \u001b[0;32m/mnt/ceph/users/spandey/CHARM/charm/combined_models.py:608\u001b[0m, in \u001b[0;36mCOMBINED_Model_conc_only.forward\u001b[0;34m(self, x_conc, cond_x, cond_x_nsh, cond_cosmo, Nhalos_truth_all, Mhalos_truth_all, mask_xconc_truth_all, LOCAL_BIASING)\u001b[0m\n\u001b[1;32m    606\u001b[0m         loss_conc \u001b[38;5;241m=\u001b[39m torch\u001b[38;5;241m.\u001b[39mmean(\u001b[38;5;241m-\u001b[39m\u001b[38;5;28mself\u001b[39m\u001b[38;5;241m.\u001b[39mconc_model\u001b[38;5;241m.\u001b[39mforward(x_conc[jb][mask_sel_conc], cond_out[mask_sel_conc], mask_xconc_truth_all[jb][mask_sel_conc]))\n\u001b[1;32m    607\u001b[0m     \u001b[38;5;28;01melse\u001b[39;00m:\n\u001b[0;32m--> 608\u001b[0m         loss_conc \u001b[38;5;241m+\u001b[39m\u001b[38;5;241m=\u001b[39m torch\u001b[38;5;241m.\u001b[39mmean(\u001b[38;5;241m-\u001b[39m\u001b[38;5;28;43mself\u001b[39;49m\u001b[38;5;241;43m.\u001b[39;49m\u001b[43mconc_model\u001b[49m\u001b[38;5;241;43m.\u001b[39;49m\u001b[43mforward\u001b[49m\u001b[43m(\u001b[49m\u001b[43mx_conc\u001b[49m\u001b[43m[\u001b[49m\u001b[43mjb\u001b[49m\u001b[43m]\u001b[49m\u001b[43m[\u001b[49m\u001b[43mmask_sel_conc\u001b[49m\u001b[43m]\u001b[49m\u001b[43m,\u001b[49m\u001b[43m \u001b[49m\u001b[43mcond_out\u001b[49m\u001b[43m[\u001b[49m\u001b[43mmask_sel_conc\u001b[49m\u001b[43m]\u001b[49m\u001b[43m,\u001b[49m\u001b[43m \u001b[49m\u001b[43mmask_xconc_truth_all\u001b[49m\u001b[43m[\u001b[49m\u001b[43mjb\u001b[49m\u001b[43m]\u001b[49m\u001b[43m[\u001b[49m\u001b[43mmask_sel_conc\u001b[49m\u001b[43m]\u001b[49m\u001b[43m)\u001b[49m)\n\u001b[1;32m    609\u001b[0m loss \u001b[38;5;241m=\u001b[39m (loss_conc)\n\u001b[1;32m    610\u001b[0m \u001b[38;5;28;01mreturn\u001b[39;00m loss\n",
      "File \u001b[0;32m/mnt/ceph/users/spandey/CHARM/charm/all_models.py:808\u001b[0m, in \u001b[0;36mNSF_Autoreg_CNNcond.forward\u001b[0;34m(self, x_inp, cond_inp, mask)\u001b[0m\n\u001b[1;32m    806\u001b[0m \u001b[38;5;28;01mif\u001b[39;00m \u001b[38;5;28misinstance\u001b[39m(\u001b[38;5;28mself\u001b[39m\u001b[38;5;241m.\u001b[39mB[\u001b[38;5;241m0\u001b[39m], \u001b[38;5;28mfloat\u001b[39m) \u001b[38;5;129;01mor\u001b[39;00m \u001b[38;5;28misinstance\u001b[39m(\u001b[38;5;28mself\u001b[39m\u001b[38;5;241m.\u001b[39mB[\u001b[38;5;241m0\u001b[39m], \u001b[38;5;28mint\u001b[39m):\n\u001b[1;32m    807\u001b[0m     W, H \u001b[38;5;241m=\u001b[39m (\u001b[38;5;28mself\u001b[39m\u001b[38;5;241m.\u001b[39mB[\u001b[38;5;241m1\u001b[39m] \u001b[38;5;241m-\u001b[39m \u001b[38;5;28mself\u001b[39m\u001b[38;5;241m.\u001b[39mB[\u001b[38;5;241m0\u001b[39m]) \u001b[38;5;241m*\u001b[39m W, (\u001b[38;5;28mself\u001b[39m\u001b[38;5;241m.\u001b[39mB[\u001b[38;5;241m1\u001b[39m] \u001b[38;5;241m-\u001b[39m \u001b[38;5;28mself\u001b[39m\u001b[38;5;241m.\u001b[39mB[\u001b[38;5;241m0\u001b[39m]) \u001b[38;5;241m*\u001b[39m H  \n\u001b[0;32m--> 808\u001b[0m     z, ld \u001b[38;5;241m=\u001b[39m \u001b[43munconstrained_RQS\u001b[49m\u001b[43m(\u001b[49m\u001b[43mx\u001b[49m\u001b[43m,\u001b[49m\u001b[43m \u001b[49m\u001b[43mW\u001b[49m\u001b[43m,\u001b[49m\u001b[43m \u001b[49m\u001b[43mH\u001b[49m\u001b[43m,\u001b[49m\u001b[43m \u001b[49m\u001b[43mD\u001b[49m\u001b[43m,\u001b[49m\u001b[43m \u001b[49m\u001b[43minverse\u001b[49m\u001b[38;5;241;43m=\u001b[39;49m\u001b[38;5;28;43;01mFalse\u001b[39;49;00m\u001b[43m,\u001b[49m\u001b[43m \u001b[49m\u001b[43mtail_bound\u001b[49m\u001b[38;5;241;43m=\u001b[39;49m\u001b[38;5;28;43mself\u001b[39;49m\u001b[38;5;241;43m.\u001b[39;49m\u001b[43mB\u001b[49m\u001b[43m)\u001b[49m         \n\u001b[1;32m    809\u001b[0m \u001b[38;5;28;01melse\u001b[39;00m:\n\u001b[1;32m    810\u001b[0m     \u001b[38;5;28;01mtry\u001b[39;00m:\n",
      "File \u001b[0;32m/mnt/ceph/users/spandey/CHARM/charm/utils.py:49\u001b[0m, in \u001b[0;36munconstrained_RQS\u001b[0;34m(inputs, unnormalized_widths, unnormalized_heights, unnormalized_derivatives, inverse, tail_bound, min_bin_width, min_bin_height, min_derivative)\u001b[0m\n\u001b[1;32m     46\u001b[0m outputs[outside_interval_mask] \u001b[38;5;241m=\u001b[39m inputs[outside_interval_mask]\n\u001b[1;32m     47\u001b[0m logabsdet[outside_interval_mask] \u001b[38;5;241m=\u001b[39m \u001b[38;5;241m0\u001b[39m\n\u001b[0;32m---> 49\u001b[0m outputs[inside_intvl_mask], logabsdet[inside_intvl_mask] \u001b[38;5;241m=\u001b[39m \u001b[43mRQS\u001b[49m\u001b[43m(\u001b[49m\n\u001b[1;32m     50\u001b[0m \u001b[43m    \u001b[49m\u001b[43minputs\u001b[49m\u001b[38;5;241;43m=\u001b[39;49m\u001b[43minputs\u001b[49m\u001b[43m[\u001b[49m\u001b[43minside_intvl_mask\u001b[49m\u001b[43m]\u001b[49m\u001b[43m,\u001b[49m\n\u001b[1;32m     51\u001b[0m \u001b[43m    \u001b[49m\u001b[43munnormalized_widths\u001b[49m\u001b[38;5;241;43m=\u001b[39;49m\u001b[43munnormalized_widths\u001b[49m\u001b[43m[\u001b[49m\u001b[43minside_intvl_mask\u001b[49m\u001b[43m,\u001b[49m\u001b[43m \u001b[49m\u001b[43m:\u001b[49m\u001b[43m]\u001b[49m\u001b[43m,\u001b[49m\n\u001b[1;32m     52\u001b[0m \u001b[43m    \u001b[49m\u001b[43munnormalized_heights\u001b[49m\u001b[38;5;241;43m=\u001b[39;49m\u001b[43munnormalized_heights\u001b[49m\u001b[43m[\u001b[49m\u001b[43minside_intvl_mask\u001b[49m\u001b[43m,\u001b[49m\u001b[43m \u001b[49m\u001b[43m:\u001b[49m\u001b[43m]\u001b[49m\u001b[43m,\u001b[49m\n\u001b[1;32m     53\u001b[0m \u001b[43m    \u001b[49m\u001b[43munnormalized_derivatives\u001b[49m\u001b[38;5;241;43m=\u001b[39;49m\u001b[43munnormalized_derivatives\u001b[49m\u001b[43m[\u001b[49m\u001b[43minside_intvl_mask\u001b[49m\u001b[43m,\u001b[49m\u001b[43m \u001b[49m\u001b[43m:\u001b[49m\u001b[43m]\u001b[49m\u001b[43m,\u001b[49m\n\u001b[1;32m     54\u001b[0m \u001b[43m    \u001b[49m\u001b[43minverse\u001b[49m\u001b[38;5;241;43m=\u001b[39;49m\u001b[43minverse\u001b[49m\u001b[43m,\u001b[49m\n\u001b[1;32m     55\u001b[0m \u001b[43m    \u001b[49m\u001b[43mleft\u001b[49m\u001b[38;5;241;43m=\u001b[39;49m\u001b[43mtail_bound_low\u001b[49m\u001b[43m,\u001b[49m\u001b[43m \u001b[49m\u001b[43mright\u001b[49m\u001b[38;5;241;43m=\u001b[39;49m\u001b[43mtail_bound_high\u001b[49m\u001b[43m,\u001b[49m\u001b[43m \u001b[49m\u001b[43mbottom\u001b[49m\u001b[38;5;241;43m=\u001b[39;49m\u001b[43mtail_bound_low\u001b[49m\u001b[43m,\u001b[49m\u001b[43m \u001b[49m\u001b[43mtop\u001b[49m\u001b[38;5;241;43m=\u001b[39;49m\u001b[43mtail_bound_high\u001b[49m\u001b[43m,\u001b[49m\n\u001b[1;32m     56\u001b[0m \u001b[43m    \u001b[49m\u001b[43mmin_bin_width\u001b[49m\u001b[38;5;241;43m=\u001b[39;49m\u001b[43mmin_bin_width\u001b[49m\u001b[43m,\u001b[49m\n\u001b[1;32m     57\u001b[0m \u001b[43m    \u001b[49m\u001b[43mmin_bin_height\u001b[49m\u001b[38;5;241;43m=\u001b[39;49m\u001b[43mmin_bin_height\u001b[49m\u001b[43m,\u001b[49m\n\u001b[1;32m     58\u001b[0m \u001b[43m    \u001b[49m\u001b[43mmin_derivative\u001b[49m\u001b[38;5;241;43m=\u001b[39;49m\u001b[43mmin_derivative\u001b[49m\n\u001b[1;32m     59\u001b[0m \u001b[43m\u001b[49m\u001b[43m)\u001b[49m\n\u001b[1;32m     60\u001b[0m \u001b[38;5;28;01mreturn\u001b[39;00m outputs, logabsdet\n",
      "File \u001b[0;32m/mnt/ceph/users/spandey/CHARM/charm/utils.py:142\u001b[0m, in \u001b[0;36mRQS\u001b[0;34m(inputs, unnormalized_widths, unnormalized_heights, unnormalized_derivatives, inverse, left, right, bottom, top, min_bin_width, min_bin_height, min_derivative)\u001b[0m\n\u001b[1;32m    140\u001b[0m \u001b[38;5;28;01melse\u001b[39;00m:\n\u001b[1;32m    141\u001b[0m     theta \u001b[38;5;241m=\u001b[39m (inputs \u001b[38;5;241m-\u001b[39m input_cumwidths) \u001b[38;5;241m/\u001b[39m input_bin_widths\n\u001b[0;32m--> 142\u001b[0m     theta_one_minus_theta \u001b[38;5;241m=\u001b[39m theta \u001b[38;5;241m*\u001b[39m (\u001b[38;5;241;43m1\u001b[39;49m\u001b[43m \u001b[49m\u001b[38;5;241;43m-\u001b[39;49m\u001b[43m \u001b[49m\u001b[43mtheta\u001b[49m)\n\u001b[1;32m    144\u001b[0m     numerator \u001b[38;5;241m=\u001b[39m input_heights \u001b[38;5;241m*\u001b[39m (input_delta \u001b[38;5;241m*\u001b[39m theta\u001b[38;5;241m.\u001b[39mpow(\u001b[38;5;241m2\u001b[39m) \\\n\u001b[1;32m    145\u001b[0m                 \u001b[38;5;241m+\u001b[39m input_derivatives \u001b[38;5;241m*\u001b[39m theta_one_minus_theta)\n\u001b[1;32m    146\u001b[0m     denominator \u001b[38;5;241m=\u001b[39m input_delta \u001b[38;5;241m+\u001b[39m ((input_derivatives \\\n\u001b[1;32m    147\u001b[0m                   \u001b[38;5;241m+\u001b[39m input_derivatives_plus_one \u001b[38;5;241m-\u001b[39m \u001b[38;5;241m2\u001b[39m \u001b[38;5;241m*\u001b[39m input_delta) \\\n\u001b[1;32m    148\u001b[0m                   \u001b[38;5;241m*\u001b[39m theta_one_minus_theta)\n",
      "File \u001b[0;32m~/miniconda3/envs/ili-sbi/lib/python3.10/site-packages/torch/_tensor.py:38\u001b[0m, in \u001b[0;36m_handle_torch_function_and_wrap_type_error_to_not_implemented.<locals>.wrapped\u001b[0;34m(*args, **kwargs)\u001b[0m\n\u001b[1;32m     34\u001b[0m \u001b[38;5;129m@functools\u001b[39m\u001b[38;5;241m.\u001b[39mwraps(f, assigned\u001b[38;5;241m=\u001b[39massigned)\n\u001b[1;32m     35\u001b[0m \u001b[38;5;28;01mdef\u001b[39;00m \u001b[38;5;21mwrapped\u001b[39m(\u001b[38;5;241m*\u001b[39margs, \u001b[38;5;241m*\u001b[39m\u001b[38;5;241m*\u001b[39mkwargs):\n\u001b[1;32m     36\u001b[0m     \u001b[38;5;28;01mtry\u001b[39;00m:\n\u001b[1;32m     37\u001b[0m         \u001b[38;5;66;03m# See https://github.com/pytorch/pytorch/issues/75462\u001b[39;00m\n\u001b[0;32m---> 38\u001b[0m         \u001b[38;5;28;01mif\u001b[39;00m \u001b[43mhas_torch_function\u001b[49m\u001b[43m(\u001b[49m\u001b[43margs\u001b[49m\u001b[43m)\u001b[49m:\n\u001b[1;32m     39\u001b[0m             \u001b[38;5;28;01mreturn\u001b[39;00m handle_torch_function(wrapped, args, \u001b[38;5;241m*\u001b[39margs, \u001b[38;5;241m*\u001b[39m\u001b[38;5;241m*\u001b[39mkwargs)\n\u001b[1;32m     40\u001b[0m         \u001b[38;5;28;01mreturn\u001b[39;00m f(\u001b[38;5;241m*\u001b[39margs, \u001b[38;5;241m*\u001b[39m\u001b[38;5;241m*\u001b[39mkwargs)\n",
      "\u001b[0;31mKeyboardInterrupt\u001b[0m: "
     ]
    }
   ],
   "source": [
    "decay_lr = True # whether to decay the learning rate\n",
    "decay_lr_model = 'cosine'\n",
    "min_lr = 1e-4 # minimum learning rate, should be ~= learning_rate/10 per Chinchilla\n",
    "iter_num = 0\n",
    "local_iter_num = 0 # number of iterations in the lifetime of this process\n",
    "# raw_model = model.module\n",
    "running_mfu = -1.0    \n",
    "best_val_loss = 1e20\n",
    "loss_min = 1e20\n",
    "nbatches = 10\n",
    "# max_iters = 1800\n",
    "eval_interval = 20\n",
    "save_separate_interval = 20\n",
    "\n",
    "nepochs = 1500\n",
    "warmup_iters = int(nepochs//15) # how many steps to warm up for\n",
    "lr_decay_iters = int(nepochs*1.5) # should be ~= max_iters per Chinchilla\n",
    "\n",
    "# learning rate decay scheduler (cosine with warmup)\n",
    "def get_lr(it, model='cosine'):\n",
    "    # 1) linear warmup for warmup_iters steps\n",
    "    if model == 'cosine':\n",
    "        if it < warmup_iters:\n",
    "            return learning_rate * it / warmup_iters\n",
    "        # 2) if it > lr_decay_iters, return min learning rate\n",
    "        if it > lr_decay_iters:\n",
    "            return min_lr\n",
    "        # 3) in between, use cosine decay down to min learning rate\n",
    "        decay_ratio = (it - warmup_iters) / (lr_decay_iters - warmup_iters)\n",
    "        assert 0 <= decay_ratio <= 1\n",
    "        coeff = 0.5 * (1.0 + math.cos(math.pi * decay_ratio)) # coeff ranges 0..1\n",
    "        return min_lr + coeff * (learning_rate - min_lr)\n",
    "    \n",
    "    elif model == 'linear':\n",
    "        if it < warmup_iters:\n",
    "            return learning_rate * it / warmup_iters\n",
    "        else:\n",
    "            return learning_rate - (it - warmup_iters) * (learning_rate - min_lr) / (lr_decay_iters - warmup_iters)\n",
    "\n",
    "    elif model == 'constant':\n",
    "        return learning_rate\n",
    "\n",
    "# t0 = time.time()\n",
    "for iter_num in (range(nepochs)):\n",
    "    lr = get_lr(iter_num, model=decay_lr_model) if decay_lr else learning_rate\n",
    "    for param_group in optimizer.param_groups:\n",
    "        param_group['lr'] = lr\n",
    "\n",
    "\n",
    "    loss = model(\n",
    "        X_conc_jb,\n",
    "        cond_tensor_jb,\n",
    "        cond_tensor_nsh_jb,\n",
    "        cond_cosmo_jb,\n",
    "        Nhalos_truth_tensor_jb,\n",
    "        Mhalos_truth_tensor_jb,\n",
    "        # None,\n",
    "        mask_tensor_conc_train_jb         \n",
    "        )            \n",
    "\n",
    "    # if (rank == 0) and (iter_num == 0):\n",
    "    #     print('GPU memory usage after calling model forward once:')\n",
    "    #     for i in range(torch.cuda.device_count()):\n",
    "    #         print(f\"GPU {i}:\")\n",
    "    #         print(f\"  Allocated: {torch.cuda.memory_allocated(i) / 1024 ** 2:.2f} MB\")\n",
    "    #         print(f\"  Reserved:  {torch.cuda.memory_reserved(i) / 1024 ** 2:.2f} MB\")\n",
    "\n",
    "    scaler.scale(loss).backward()   \n",
    "    if (iter_num % 10) == 0:\n",
    "        print(f\"iter {iter_num}, loss: {loss.item()}\")                 \n",
    "\n",
    "\n",
    "    if (np.mod(iter_num, int(nepochs / 80)) == 0) or (iter_num == nepochs - 1):\n",
    "        if float(loss.mean().cpu().detach().numpy()) < loss_min:\n",
    "            loss_min = float(loss.mean().cpu().detach().numpy())\n",
    "            print(loss_min)\n",
    "\n",
    "            state = {'loss_min': loss_min, 'state_dict': model.state_dict(), 'optimizer': optimizer.state_dict(),\n",
    "                        'loss':loss}\n",
    "\n",
    "            # save_bestfit_model_name = sdir_model_checkpoint + 'test_model_bestfit_' + str(1000+iter_num) + '_evenmoredata_nsub11k.pth'\n",
    "            # torch.save(\n",
    "            #     state, save_bestfit_model_name\n",
    "            #     )\n",
    "\n",
    "    scaler.step(optimizer)\n",
    "    scaler.update()\n",
    "    # flush the gradients as soon as we can, no need for this memory anymore\n",
    "    optimizer.zero_grad(set_to_none=True)\n",
    "\n",
    "    # if (rank == 0) and (iter_num == 0):\n",
    "    #     print('GPU memory usage after passing gradients backward once:')\n",
    "    #     for i in range(torch.cuda.device_count()):\n",
    "    #         print(f\"GPU {i}:\")\n",
    "    #         print(f\"  Allocated: {torch.cuda.memory_allocated(i) / 1024 ** 2:.2f} MB\")\n",
    "    #         print(f\"  Reserved:  {torch.cuda.memory_reserved(i) / 1024 ** 2:.2f} MB\")\n",
    "\n"
   ]
  },
  {
   "cell_type": "code",
   "execution_count": 74,
   "metadata": {},
   "outputs": [],
   "source": [
    "conc_samp_out = model.inverse(cond_x=cond_tensor_jb, cond_x_nsh=cond_tensor_nsh_jb, cond_cosmo=cond_cosmo_jb, mask_conc_truth=mask_tensor_conc_train_jb, Nhalos_truth=Nhalos_truth_tensor_jb, Mhalos_truth=Mhalos_truth_tensor_jb)\n",
    "\n",
    "\n"
   ]
  },
  {
   "cell_type": "code",
   "execution_count": 75,
   "metadata": {},
   "outputs": [
    {
     "data": {
      "image/png": "[encoded data removed]",
      "text/plain": [
       "<Figure size 640x480 with 1 Axes>"
      ]
     },
     "metadata": {},
     "output_type": "display_data"
    }
   ],
   "source": [
    "# cond_tensor_nsh_jb.shape\n",
    "# Mhalos_truth_tensor_jb.shape\n",
    "pl.figure()\n",
    "_ = pl.hist(Mhalos_truth_tensor_jb.detach().cpu().numpy().flatten(), bins=100, alpha=0.5, label='truth')\n",
    "pl.yscale('log')\n",
    "\n"
   ]
  },
  {
   "cell_type": "code",
   "execution_count": 76,
   "metadata": {},
   "outputs": [],
   "source": [
    "# conc_samp_out_\n",
    "cmin = -4\n",
    "cmax = 4\n",
    "cout_orig = conc_samp_out * (cmax - cmin) + cmin\n"
   ]
  },
  {
   "cell_type": "code",
   "execution_count": 77,
   "metadata": {},
   "outputs": [
    {
     "data": {
      "text/plain": [
       "((1, 2097152, 12), (1, 2097152, 12))"
      ]
     },
     "execution_count": 77,
     "metadata": {},
     "output_type": "execute_result"
    }
   ],
   "source": [
    "conc_samp_out.shape, X_conc_jb.detach().cpu().numpy().shape\n"
   ]
  },
  {
   "cell_type": "code",
   "execution_count": 78,
   "metadata": {},
   "outputs": [
    {
     "data": {
      "text/plain": [
       "Text(0.5, 0, '$\\\\Delta c$ normalized')"
      ]
     },
     "execution_count": 78,
     "metadata": {},
     "output_type": "execute_result"
    },
    {
     "data": {
      "image/png": "[encoded data removed]",
      "text/plain": [
       "<Figure size 640x480 with 1 Axes>"
      ]
     },
     "metadata": {},
     "output_type": "display_data"
    }
   ],
   "source": [
    "pl.figure()\n",
    "conc_inp = X_conc_jb.detach().cpu().numpy().flatten()\n",
    "indsel = np.where(conc_inp != 0.5)[0]\n",
    "_ = pl.hist(conc_inp[indsel], range=(0,0.99), bins=100, alpha=0.5, label='sampled')\n",
    "conc_out = conc_samp_out.flatten()\n",
    "indsel = np.where(conc_out != 0)[0]\n",
    "_ = pl.hist(conc_out[indsel], range=(0,0.99), bins=100, alpha=0.5, label='sampled')\n",
    "# pl.yscale('log')\n",
    "pl.xlabel(r'$\\Delta c$ normalized', fontsize=15)\n"
   ]
  },
  {
   "cell_type": "code",
   "execution_count": 97,
   "metadata": {},
   "outputs": [
    {
     "data": {
      "text/plain": [
       "Text(0.5, 0, '$\\\\Delta c$ normalized')"
      ]
     },
     "execution_count": 97,
     "metadata": {},
     "output_type": "execute_result"
    },
    {
     "data": {
      "image/png": "[encoded data removed]",
      "text/plain": [
       "<Figure size 640x480 with 1 Axes>"
      ]
     },
     "metadata": {},
     "output_type": "display_data"
    }
   ],
   "source": [
    "pl.figure()\n",
    "conc_inp = X_conc_jb.detach().cpu().numpy()[...,2].flatten()\n",
    "indsel = np.where(conc_inp != 0.5)[0]\n",
    "_ = pl.hist(conc_inp[indsel], range=(0,0.99), bins=100, alpha=0.5, label='sampled')\n",
    "conc_out = conc_samp_out[...,2].flatten()\n",
    "indsel = np.where(conc_out != 0)[0]\n",
    "_ = pl.hist(conc_out[indsel], range=(0,0.99), bins=100, alpha=0.5, label='sampled')\n",
    "# pl.yscale('log')\n",
    "pl.xlabel(r'$\\Delta c$ normalized', fontsize=15)\n"
   ]
  },
  {
   "cell_type": "code",
   "execution_count": 70,
   "metadata": {},
   "outputs": [
    {
     "data": {
      "image/png": "[encoded data removed]",
      "text/plain": [
       "<Figure size 640x480 with 1 Axes>"
      ]
     },
     "metadata": {},
     "output_type": "display_data"
    }
   ],
   "source": [
    "deltaval = cond_tensor_nsh_jb.detach().cpu().numpy()[...,0][0,:]\n",
    "pl.figure()\n",
    "_ = pl.hist(deltaval.flatten(), bins=100, alpha=0.5, label='sampled')\n"
   ]
  },
  {
   "cell_type": "code",
   "execution_count": 114,
   "metadata": {},
   "outputs": [
    {
     "data": {
      "text/plain": [
       "Text(0.5, 1.0, 'Third heaviest mass halo')"
      ]
     },
     "execution_count": 114,
     "metadata": {},
     "output_type": "execute_result"
    },
    {
     "data": {
      "image/png": "[encoded data removed]",
      "text/plain": [
       "<Figure size 640x480 with 1 Axes>"
      ]
     },
     "metadata": {},
     "output_type": "display_data"
    }
   ],
   "source": [
    "pl.figure()\n",
    "conc_inp = X_conc_jb.detach().cpu().numpy()[...,2].flatten()\n",
    "# indsel = np.where((conc_inp != 0.5) & (deltaval < 0.3))[0]\n",
    "indsel = np.where((conc_inp != 0.5))[0]\n",
    "_ = pl.hist(conc_inp[indsel], range=(0,0.99), bins=100, alpha=0.5, label='sampled')\n",
    "conc_out = conc_samp_out[...,2].flatten()\n",
    "# indsel = np.where((conc_out != 0) & (deltaval < 0.3))[0]\n",
    "indsel = np.where((conc_out != 0))[0]\n",
    "_ = pl.hist(conc_out[indsel], range=(0,0.99), bins=100, alpha=0.5, label='sampled')\n",
    "# pl.yscale('log')\n",
    "pl.xlabel(r'$\\Delta c$ normalized', fontsize=15)\n",
    "pl.title('Third heaviest mass halo')\n"
   ]
  },
  {
   "cell_type": "code",
   "execution_count": 83,
   "metadata": {},
   "outputs": [
    {
     "data": {
      "text/plain": [
       "<matplotlib.legend.Legend at 0x15541eea5900>"
      ]
     },
     "execution_count": 83,
     "metadata": {},
     "output_type": "execute_result"
    },
    {
     "data": {
      "image/png": "[encoded data removed]",
      "text/plain": [
       "<Figure size 640x480 with 1 Axes>"
      ]
     },
     "metadata": {},
     "output_type": "display_data"
    }
   ],
   "source": [
    "Mall = Mhalos_truth_tensor_jb.detach().cpu().numpy()[0,...]\n",
    "indsel = np.where((Mall > -0.5) & (Mall < 0.5))\n",
    "# indsel = np.where((Mall > -0.5) & (Mall < -0.2))\n",
    "# indsel = np.where((Mall > -0.2) & (Mall < 0.1))\n",
    "# indsel = np.where((Mall > 0.1) & (Mall < 0.45))\n",
    "pl.figure()\n",
    "conc_inp = X_conc_jb.detach().cpu().numpy()[0,...]\n",
    "# indsel = np.where((conc_inp != 0.5) & (deltaval < 0.3))[0]\n",
    "# indsel = np.where((conc_inp != 0.5))[0]\n",
    "_ = pl.hist(conc_inp[indsel], range=(0,0.99), bins=100, alpha=0.5, label='Truth')\n",
    "conc_out = conc_samp_out[0,...]\n",
    "# indsel = np.where((conc_out != 0) & (deltaval < 0.3))[0]\n",
    "# indsel = np.where((conc_out != 0))[0]\n",
    "_ = pl.hist(conc_out[indsel], range=(0,0.99), bins=100, alpha=0.5, label='Sampled')\n",
    "# pl.yscale('log')\n",
    "pl.xlabel(r'$\\Delta c$ normalized', fontsize=15)\n",
    "pl.title('All-mass halos')\n",
    "pl.legend()\n",
    "# pl.yscale('log')\n"
   ]
  },
  {
   "cell_type": "code",
   "execution_count": 28,
   "metadata": {},
   "outputs": [
    {
     "data": {
      "text/plain": [
       "((1, 2097152, 12), (1, 2097152, 12), (1, 2097152, 12))"
      ]
     },
     "execution_count": 28,
     "metadata": {},
     "output_type": "execute_result"
    }
   ],
   "source": [
    "Mhalos_truth_tensor_jb.detach().cpu().numpy().shape, X_conc_jb.detach().cpu().numpy().shape, conc_samp_out.shape\n"
   ]
  },
  {
   "cell_type": "code",
   "execution_count": 32,
   "metadata": {},
   "outputs": [
    {
     "data": {
      "text/plain": [
       "array([[-0.3215332 , -0.5       , -0.5       , ..., -0.5       ,\n",
       "        -0.5       , -0.5       ],\n",
       "       [-0.1262207 , -0.3383789 , -0.5       , ..., -0.5       ,\n",
       "        -0.5       , -0.5       ],\n",
       "       [-0.3996582 , -0.5       , -0.5       , ..., -0.5       ,\n",
       "        -0.5       , -0.5       ],\n",
       "       ...,\n",
       "       [-0.35205078, -0.5       , -0.5       , ..., -0.5       ,\n",
       "        -0.5       , -0.5       ],\n",
       "       [-0.31298828, -0.38012695, -0.41918945, ..., -0.5       ,\n",
       "        -0.5       , -0.5       ],\n",
       "       [-0.31298828, -0.38012695, -0.41918945, ..., -0.5       ,\n",
       "        -0.5       , -0.5       ]], dtype=float32)"
      ]
     },
     "execution_count": 32,
     "metadata": {},
     "output_type": "execute_result"
    }
   ],
   "source": [
    "Mall[indsel]\n"
   ]
  },
  {
   "cell_type": "code",
   "execution_count": null,
   "metadata": {},
   "outputs": [],
   "source": []
  },
  {
   "cell_type": "code",
   "execution_count": null,
   "metadata": {},
   "outputs": [],
   "source": []
  },
  {
   "cell_type": "code",
   "execution_count": null,
   "metadata": {},
   "outputs": [],
   "source": []
  },
  {
   "cell_type": "code",
   "execution_count": null,
   "metadata": {},
   "outputs": [],
   "source": []
  }
 ],
 "metadata": {
  "kernelspec": {
   "display_name": "ili-sbi",
   "language": "python",
   "name": "python3"
  },
  "language_info": {
   "codemirror_mode": {
    "name": "ipython",
    "version": 3
   },
   "file_extension": ".py",
   "mimetype": "text/x-python",
   "name": "python",
   "nbconvert_exporter": "python",
   "pygments_lexer": "ipython3",
   "version": "3.10.12"
  }
 },
 "nbformat": 4,
 "nbformat_minor": 2
}
