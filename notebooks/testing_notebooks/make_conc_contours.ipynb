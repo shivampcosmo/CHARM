{
 "cells": [
  {
   "cell_type": "code",
   "execution_count": 1,
   "metadata": {},
   "outputs": [],
   "source": [
    "import sys, os\n",
    "import numpy as np\n",
    "import torch\n",
    "dev = torch.device(\"cuda\")\n",
    "import torch.optim as optim\n",
    "root_dir = '/mnt/home/spandey/ceph/CHARM/'\n",
    "os.chdir(root_dir)\n",
    "# import colossus\n",
    "import sys, os\n",
    "# append the root_dir to the path\n",
    "sys.path.append(root_dir)\n",
    "from charm.utils_data_prep_cosmo_vel_conc_peak import *\n",
    "from colossus.cosmology import cosmology\n",
    "params = {'flat': True, 'H0': 67.11, 'Om0': 0.3175, 'Ob0': 0.049, 'sigma8': 0.834, 'ns': 0.9624}\n",
    "cosmo = cosmology.setCosmology('myCosmo', **params)\n",
    "# get halo mass function:\n",
    "from colossus.lss import mass_function\n",
    "from tqdm import tqdm\n",
    "    \n",
    "import yaml\n",
    "import pickle as pk\n",
    "# autoreload modules\n",
    "import matplotlib\n",
    "import matplotlib.pyplot as pl\n",
    "\n",
    "abs_path_config = os.path.abspath(root_dir + \"run_configs/\") \n",
    "abs_path_data = os.path.abspath(root_dir + \"data/\") \n",
    "abs_path_checkpoint = os.path.abspath(root_dir + \"model_checkpoints/\") \n",
    "%load_ext autoreload\n",
    "%autoreload 2\n",
    "\n",
    "\n"
   ]
  },
  {
   "cell_type": "code",
   "execution_count": 2,
   "metadata": {},
   "outputs": [],
   "source": [
    "run_config_name = 'TRAIN_CONC_FIDCOSMO_cond_fastpm_ns128_200c.yaml'\n",
    "with open(abs_path_config + '/' + run_config_name,\"r\") as file_object:\n",
    "    config=yaml.load(file_object,Loader=yaml.SafeLoader)\n",
    "\n",
    "\n",
    "config_sims = config['sim_settings']\n",
    "ji_array = np.arange(int(config_sims['nsims']))\n",
    "nsubvol_per_ji = int(config_sims['nsubvol_per_ji'])\n",
    "nsubvol_fid = int(config_sims['nsubvol_fid'])\n",
    "subsel_criteria = config_sims['subsel_criteria']\n",
    "num_cosmo_params = int(config_sims['num_cosmo_params'])\n",
    "ns_d = config_sims['ns_d']\n",
    "nb = config_sims['nb']\n",
    "nax_d =  ns_d // nb\n",
    "nf = config_sims['nf']\n",
    "layers_types = config_sims['layers_types']\n",
    "z_inference = config_sims['z_inference']\n",
    "nc = 0\n",
    "for jl in range(len(layers_types)):\n",
    "    if layers_types[jl] == 'cnn':\n",
    "        nc += 1\n",
    "    elif layers_types[jl] == 'res':\n",
    "        nc += 2\n",
    "    else:\n",
    "        raise ValueError(\"layer type not supported\")\n",
    "\n",
    "z_all = config_sims['z_all']\n",
    "z_all_FP = config_sims['z_all_FP']\n",
    "\n",
    "ns_h = config_sims['ns_h']\n",
    "nax_h = ns_h // nb\n",
    "cond_sim = config_sims['cond_sim']\n",
    "\n",
    "nsims_per_batch = config_sims['nsims_per_batch']\n",
    "nbatches_train = config_sims['nbatches_train']\n",
    "\n",
    "mass_type = config_sims['mass_type']\n",
    "lgMmin = config_sims['lgMmin']\n",
    "lgMmax = config_sims['lgMmax']\n",
    "cmin = config_sims['cmin']\n",
    "cmax = config_sims['cmax']\n",
    "\n",
    "stype = config_sims['stype']\n",
    "rescale_sub = config_sims['rescale_sub']\n",
    "lgMmincutstr = config_sims['lgMmincutstr']\n",
    "# subsel_highM1 = config_sims['subsel_highM1']\n",
    "# nsubsel = config_sims['nsubsel']\n",
    "is_HR = config_sims['is_HR']\n",
    "\n",
    "try:\n",
    "    Nmax = config_sims['Nmax']\n",
    "except:\n",
    "    Nmax = 4\n",
    "\n",
    "config_net = config['network_settings']\n",
    "hidden_dim_MAF = config_net['hidden_dim_MAF']\n",
    "learning_rate = config_net['learning_rate']\n",
    "# K_M1 = config_net['K_M1']\n",
    "# B_M1 = config_net['B_M1']\n",
    "# nflows_M1_NSF = config_net['nflows_M1_NSF']\n",
    "K_conc = config_net['K_conc']\n",
    "B_conc = config_net['B_conc']\n",
    "nflows_conc_NSF = config_net['nflows_conc_NSF']\n",
    "\n",
    "# base_dist_Ntot = config_net['base_dist_Ntot']\n",
    "# if base_dist_Ntot == 'None':\n",
    "#     base_dist_Ntot = None\n",
    "# base_dist_M1 = config_net['base_dist_M1']\n",
    "base_dist_conc = config_net['base_dist_conc']\n",
    "\n",
    "cond_Mass_for_conc = config_net['cond_Mass_for_conc']\n",
    "\n",
    "# ngauss_M1 = config_net['ngauss_M1']\n",
    "\n",
    "changelr = config_net['changelr']\n",
    "ksize = nf\n",
    "nfeature_cnn = config_net['nfeature_cnn']\n",
    "nout_cnn = 4 * nfeature_cnn\n",
    "if cond_sim == 'fastpm':\n",
    "    if any('v' in str(string) for string in z_all_FP):\n",
    "        ninp = len(z_all_FP) + 2\n",
    "    else:\n",
    "        ninp = len(z_all_FP)\n",
    "\n",
    "elif cond_sim == 'quijote':\n",
    "    ninp = len(z_all)\n",
    "else:\n",
    "    raise ValueError(\"cond_sim not supported\")\n",
    "\n",
    "num_cond = nout_cnn + ninp + num_cosmo_params\n",
    "\n"
   ]
  },
  {
   "cell_type": "code",
   "execution_count": 3,
   "metadata": {},
   "outputs": [],
   "source": [
    "import pickle as pk\n",
    "import numpy as np\n",
    "\n",
    "df_d_all_train, df_d_all_nsh_train, df_Mh_all_train, df_Nh_train, df_vh_train, df_ch_train, df_nuh_train, ind_subsel_all_train, ind_subsel_fid_train, cosmo_val_all_train = load_density_halo_data_NGP(\n",
    "    ji_array, ns_d, nb, nf, nc, z_all, ns_h,z_inference=z_inference,nsubvol_per_ji=nsubvol_per_ji,nsubvol_fid=nsubvol_fid,\n",
    "    sdir_cosmo='/mnt/home/spandey/ceph/Quijote/data_NGP_self_LH',\n",
    "    sdir_fid='/mnt/home/spandey/ceph/Quijote/data_NGP_self',  \n",
    "    LH_cosmo_val_file='/mnt/home/spandey/ceph/Quijote/latin_hypercube_params.txt',  \n",
    "    stype=stype, mass_type=mass_type, lgMmincutstr = lgMmincutstr, subsel_criteria='all', is_HR = is_HR,  vel_type='diff',conc_type='diff',\n",
    "    get_density=False, \n",
    "    get_halos=True\n",
    "    )\n",
    "\n"
   ]
  },
  {
   "cell_type": "code",
   "execution_count": 57,
   "metadata": {},
   "outputs": [],
   "source": [
    "import pickle as pk\n",
    "import numpy as np\n",
    "\n",
    "_,_,_,_,_, df_ch_train_sim_total, _,_,_,_ = load_density_halo_data_NGP(\n",
    "    ji_array, ns_d, nb, nf, nc, z_all, ns_h,z_inference=z_inference,nsubvol_per_ji=nsubvol_per_ji,nsubvol_fid=nsubvol_fid,\n",
    "    sdir_cosmo='/mnt/home/spandey/ceph/Quijote/data_NGP_self_LH',\n",
    "    sdir_fid='/mnt/home/spandey/ceph/Quijote/data_NGP_self',  \n",
    "    LH_cosmo_val_file='/mnt/home/spandey/ceph/Quijote/latin_hypercube_params.txt',  \n",
    "    stype=stype, mass_type=mass_type, lgMmincutstr = lgMmincutstr, subsel_criteria='all', is_HR = is_HR,  vel_type='diff',conc_type='sim',\n",
    "    get_density=False, \n",
    "    get_halos=True\n",
    "    )\n",
    "\n"
   ]
  },
  {
   "cell_type": "code",
   "execution_count": 58,
   "metadata": {},
   "outputs": [],
   "source": [
    "import pickle as pk\n",
    "import numpy as np\n",
    "\n",
    "_,_,_,_,_, df_ch_train_func_total, _,_,_,_ = load_density_halo_data_NGP(\n",
    "    ji_array, ns_d, nb, nf, nc, z_all, ns_h,z_inference=z_inference,nsubvol_per_ji=nsubvol_per_ji,nsubvol_fid=nsubvol_fid,\n",
    "    sdir_cosmo='/mnt/home/spandey/ceph/Quijote/data_NGP_self_LH',\n",
    "    sdir_fid='/mnt/home/spandey/ceph/Quijote/data_NGP_self',  \n",
    "    LH_cosmo_val_file='/mnt/home/spandey/ceph/Quijote/latin_hypercube_params.txt',  \n",
    "    stype=stype, mass_type=mass_type, lgMmincutstr = lgMmincutstr, subsel_criteria='all', is_HR = is_HR,  vel_type='diff',conc_type='func',\n",
    "    get_density=False, \n",
    "    get_halos=True\n",
    "    )\n",
    "\n"
   ]
  },
  {
   "cell_type": "code",
   "execution_count": 5,
   "metadata": {},
   "outputs": [
    {
     "name": "stderr",
     "output_type": "stream",
     "text": [
      "0it [00:00, ?it/s]\n"
     ]
    }
   ],
   "source": [
    "df_d_all_train_FP, df_d_all_nsh_train_FP, df_Mh_all_train_FP, df_Nh_train_FP, df_vh_train_FP, df_ch_train_FP, df_nuh_train_FP, ind_subsel_all_train_FP, ind_subsel_fid_train_FP, cosmo_val_all_train_FP = load_density_halo_data_NGP(\n",
    "    ji_array, ns_d, nb, nf, nc, z_all_FP, ns_h,z_inference=z_inference,nsubvol_per_ji=nsubvol_per_ji,nsubvol_fid=nsubvol_fid,\n",
    "    sdir_cosmo='/mnt/home/spandey/ceph/Quijote/data_NGP_self_fastpm_LH',\n",
    "    sdir_fid='/mnt/home/spandey/ceph/Quijote/data_NGP_self/fastpm',  \n",
    "    LH_cosmo_val_file='/mnt/home/spandey/ceph/Quijote/latin_hypercube_params.txt',  \n",
    "    stype=stype, mass_type=mass_type, lgMmincutstr = lgMmincutstr, subsel_criteria=subsel_criteria,\n",
    "    indsubsel_all_inp=ind_subsel_all_train,\n",
    "    indsubsel_fid_inp=ind_subsel_fid_train,\n",
    "    is_HR = is_HR,  vel_type='diff',\n",
    "    get_density=True,\n",
    "    get_halos=False\n",
    "    )\n",
    "if cosmo_val_all_train_FP is None:\n",
    "    cosmo_val_all_train_FP = cosmo_val_all_train\n",
    "\n",
    "\n"
   ]
  },
  {
   "cell_type": "code",
   "execution_count": 78,
   "metadata": {},
   "outputs": [],
   "source": [
    "# df_d_all_train_FP.shape, df_d_all_nsh_train_FP.shape\n",
    "# cmin = -20\n",
    "# cmax = 20\n",
    "\n",
    "return_dict_train = prep_density_halo_cats_batched(\n",
    "    df_d_all_train, df_d_all_nsh_train, df_Mh_all_train, df_Nh_train,cosmo_val_all_train, df_v_inp=None, df_c_inp=df_ch_train, nsims=nsims_per_batch,\n",
    "    nbatches = nbatches_train, Mmin=lgMmin, Mmax=lgMmax, rescaleM_sub=rescale_sub, Nmax=Nmax, get_density=False, get_halos=True, cmin=cmin, cmax=cmax\n",
    "    )\n",
    "\n",
    "return_dict_train_sim_total = prep_density_halo_cats_batched(\n",
    "    df_d_all_train, df_d_all_nsh_train, df_Mh_all_train, df_Nh_train,cosmo_val_all_train, df_v_inp=None, df_c_inp=df_ch_train_sim_total, nsims=nsims_per_batch,\n",
    "    nbatches = nbatches_train, Mmin=lgMmin, Mmax=lgMmax, rescaleM_sub=rescale_sub, Nmax=Nmax, get_density=False, get_halos=True, cmin=cmin, cmax=cmax\n",
    "    )    \n",
    "\n",
    "return_dict_train_func_total = prep_density_halo_cats_batched(\n",
    "    df_d_all_train, df_d_all_nsh_train, df_Mh_all_train, df_Nh_train,cosmo_val_all_train, df_v_inp=None, df_c_inp=df_ch_train_func_total, nsims=nsims_per_batch,\n",
    "    nbatches = nbatches_train, Mmin=lgMmin, Mmax=lgMmax, rescaleM_sub=rescale_sub, Nmax=Nmax, get_density=False, get_halos=True, cmin=cmin, cmax=cmax\n",
    "    )    \n",
    "\n",
    "\n",
    "return_dict_train_FP = prep_density_halo_cats_batched(\n",
    "    df_d_all_train_FP, df_d_all_nsh_train_FP, df_Mh_all_train_FP, df_Nh_train_FP, cosmo_val_all_train_FP, df_v_inp=df_vh_train_FP, nsims=nsims_per_batch,\n",
    "    nbatches = nbatches_train, Mmin=lgMmin, Mmax=lgMmax, rescaleM_sub=rescale_sub, get_density=True, get_halos=False\n",
    "    )\n",
    "\n",
    "if return_dict_train_FP is not None:\n",
    "    cond_tensor = torch.Tensor(np.array(return_dict_train_FP['df_d_all']))\n",
    "    cond_nsh = np.moveaxis(np.array(return_dict_train_FP['df_d_all_nsh']), 2, 5)\n",
    "    cond_tensor_nsh = torch.Tensor((cond_nsh)).reshape(-1, nsims_per_batch * (nax_h ** 3), ninp)\n",
    "    \n",
    "    cond_cosmo = torch.Tensor(np.array(return_dict_train_FP['cosmo_val_all']))\n",
    "    cond_cosmo = cond_cosmo.reshape(-1, nsims_per_batch * (nax_h**3), cond_cosmo.shape[-1])\n",
    "else:\n",
    "    cond_tensor = torch.Tensor(np.array(return_dict_train['df_d_all']))\n",
    "    cond_nsh = np.moveaxis(np.array(return_dict_train['df_d_all_nsh']), 2, 5)\n",
    "    cond_tensor_nsh = torch.Tensor((cond_nsh)).reshape(-1, nsims_per_batch * (nax_h ** 3), ninp)\n",
    "\n",
    "    cond_cosmo = torch.Tensor(np.array(return_dict_train['cosmo_val_all']))\n",
    "    cond_cosmo = cond_cosmo.reshape(-1, nsims_per_batch * (nax_h**3), cond_cosmo.shape[-1])\n",
    "\n",
    "\n"
   ]
  },
  {
   "cell_type": "code",
   "execution_count": 79,
   "metadata": {},
   "outputs": [],
   "source": [
    "import sys, os\n",
    "import torch\n",
    "import torch.distributed as dist\n",
    "import yaml\n",
    "from torch.nn.parallel import DistributedDataParallel as DDP\n",
    "import time\n",
    "os.environ['TORCH_DISTRIBUTED_DEBUG'] = 'DETAIL'\n",
    "os.environ['NCCL_BLOCKING_WAIT'] = '0'\n",
    "from datetime import timedelta\n",
    "import torch\n",
    "import torch.nn as nn\n",
    "from torch.nn.parallel import DistributedDataParallel as DDP\n",
    "import torch.optim as optim\n",
    "import torch.distributed as dist\n",
    "import torch.optim as optim\n",
    "import pickle as pk\n",
    "from charm.combined_models import *\n",
    "from charm.all_models import *\n",
    "from charm.utils_data_prep_cosmo_vel_conc_peak import *\n",
    "from colossus.cosmology import cosmology\n",
    "params = {'flat': True, 'H0': 67.11, 'Om0': 0.3175, 'Ob0': 0.049, 'sigma8': 0.834, 'ns': 0.9624}\n",
    "cosmo = cosmology.setCosmology('myCosmo', **params)\n",
    "from colossus.lss import mass_function\n",
    "from tqdm import tqdm\n",
    "import sparse\n",
    "import numpy as np\n",
    "import h5py as h5\n",
    "# get directory of this file, absolute path:\n",
    "import pathlib\n",
    "curr_path = pathlib.Path().absolute()\n",
    "\n",
    "\n"
   ]
  },
  {
   "cell_type": "code",
   "execution_count": 80,
   "metadata": {},
   "outputs": [],
   "source": [
    "\n",
    "ndim_mass = Nmax\n",
    "ndim_conc = Nmax\n",
    "\n",
    "c_halos_all = return_dict_train['c_halos_all_sort_norm'].reshape(*return_dict_train['c_halos_all_sort_norm'].shape[:-2],-1)\n",
    "c_halos_all_sim_total = return_dict_train_sim_total['c_halos_all_sort_norm'].reshape(*return_dict_train_sim_total['c_halos_all_sort_norm'].shape[:-2],-1)\n",
    "c_halos_all_func_total = return_dict_train_func_total['c_halos_all_sort_norm'].reshape(*return_dict_train_func_total['c_halos_all_sort_norm'].shape[:-2],-1)\n",
    "# v_halos_all = return_dict_train['v_halos_all_sort_norm'].reshape(*return_dict_train['v_halos_all_sort_norm'].shape[:-2],-1)\n",
    "M_halos_all = return_dict_train['M_halos_all_sort_norm'].reshape(*return_dict_train['M_halos_all_sort_norm'].shape[:-2],-1)\n",
    "\n",
    "mask_conc = return_dict_train['mask_vel']\n",
    "# mask_vel_repeat = np.repeat(mask_vel[..., None], 3, axis=-1)\n",
    "# mask_vel_repeat = mask_vel_repeat.reshape(*mask_vel_repeat.shape[:-2],-1)\n",
    "# mask_tensor_vel_train = torch.Tensor((mask_vel_repeat)).reshape(-1, nsims_per_batch * (nax_h**3), ndim_vel)\n",
    "mask_tensor_conc_train = torch.Tensor((mask_conc)).reshape(-1, nsims_per_batch * (nax_h**3), ndim_conc)\n",
    "\n",
    "X_conc = torch.Tensor(np.array(c_halos_all)).reshape(-1, nsims_per_batch * (nax_h**3),ndim_conc)\n",
    "X_conc_sim_total = torch.Tensor(np.array(c_halos_all_sim_total)).reshape(-1, nsims_per_batch * (nax_h**3),ndim_conc)\n",
    "X_conc_func_total = torch.Tensor(np.array(c_halos_all_func_total)).reshape(-1, nsims_per_batch * (nax_h**3),ndim_conc)\n",
    "Nhalos_truth_tensor = torch.Tensor(((np.array(return_dict_train['N_halos_all'])))).reshape(-1, nsims_per_batch * (nax_h**3), 1)\n",
    "Mhalos_truth_tensor = torch.Tensor(((np.array(M_halos_all)))).reshape(-1, nsims_per_batch * (nax_h**3), ndim_mass)\n"
   ]
  },
  {
   "cell_type": "code",
   "execution_count": 81,
   "metadata": {},
   "outputs": [],
   "source": [
    "# c_halos_all.shape, c_halos_all_sim_total.shape\n",
    "# c_halos_all[0,:10,0]\n",
    "# np.amin(c_halos_all_sim_total), np.amax(c_halos_all_sim_total)\n"
   ]
  },
  {
   "cell_type": "code",
   "execution_count": 82,
   "metadata": {},
   "outputs": [],
   "source": [
    "# c_halos_all.shape, c_halos_all_sim_total.shape\n",
    "# c_halos_all_sim_total[0,:10,0]\n",
    "# cond_Mass_for_conc"
   ]
  },
  {
   "cell_type": "code",
   "execution_count": 83,
   "metadata": {},
   "outputs": [
    {
     "name": "stdout",
     "output_type": "stream",
     "text": [
      "\n"
     ]
    }
   ],
   "source": [
    "# num_cond_conc = num_cond\n",
    "if cond_Mass_for_conc:\n",
    "    num_cond_conc = num_cond + ndim_mass\n",
    "else:\n",
    "    num_cond_conc = num_cond\n",
    "model_conc = NSF_Autoreg_CNNcond(\n",
    "    dim=ndim_conc,\n",
    "    K=K_conc,\n",
    "    B=B_conc,\n",
    "    hidden_dim=hidden_dim_MAF,\n",
    "    num_cond=num_cond_conc,\n",
    "    nflows=nflows_conc_NSF,\n",
    "    base_dist=base_dist_conc,\n",
    "    mu_pos=True\n",
    "    )\n",
    "\n",
    "\n",
    "# ndim = ndim_diff + 1\n",
    "model = COMBINED_Model_conc_only(\n",
    "    None,\n",
    "    model_conc,\n",
    "    ndim_conc,\n",
    "    ksize,\n",
    "    ns_d,\n",
    "    ns_h,\n",
    "    nb,\n",
    "    ninp,\n",
    "    nfeature_cnn,\n",
    "    nout_cnn,\n",
    "    layers_types=layers_types,\n",
    "    act='tanh',\n",
    "    padding='valid',\n",
    "    ).to(dev)\n",
    "\n",
    "optimizer = torch.optim.AdamW(model.parameters(), lr=learning_rate)\n",
    "\n",
    "scaler = torch.cuda.amp.GradScaler()\n",
    "model = torch.nn.DataParallel(model)\n",
    "\n",
    "ldir_cp = '/mnt/home/spandey/ceph/CHARM/model_checkpoints/test2_conc/'\n",
    "checkpoint = torch.load(ldir_cp + f'test_model_conc_bestfit_1920.pth')\n",
    "model.load_state_dict(checkpoint['state_dict'])\n",
    "model.eval()\n",
    "print()\n",
    "\n"
   ]
  },
  {
   "cell_type": "code",
   "execution_count": 84,
   "metadata": {},
   "outputs": [],
   "source": [
    "X_conc_jb = X_conc.to(dev)\n",
    "X_conc_sim_total_jb = X_conc_sim_total.to(dev)\n",
    "X_conc_func_total_jb = X_conc_func_total.to(dev)\n",
    "Nhalos_truth_tensor_jb = Nhalos_truth_tensor.to(dev)\n",
    "Mhalos_truth_tensor_jb = Mhalos_truth_tensor.to(dev)\n",
    "mask_tensor_conc_train_jb = mask_tensor_conc_train.to(dev)\n",
    "cond_tensor_jb = cond_tensor.to(dev)\n",
    "cond_tensor_nsh_jb = cond_tensor_nsh.to(dev)\n",
    "cond_cosmo_jb = cond_cosmo.to(dev)\n",
    "mask_tensor_conc_train_jb = mask_tensor_conc_train.to(dev)\n"
   ]
  },
  {
   "cell_type": "code",
   "execution_count": 85,
   "metadata": {},
   "outputs": [],
   "source": [
    "# conc_samp_out = model.inverse(cond_x=cond_tensor_jb, cond_x_nsh=cond_tensor_nsh_jb, cond_cosmo=cond_cosmo_jb, mask_conc_truth=mask_tensor_conc_train_jb, Nhalos_truth=Nhalos_truth_tensor_jb, Mhalos_truth=Mhalos_truth_tensor_jb)\n",
    "conc_samp_out = model.module.inverse(cond_x=cond_tensor_jb, cond_x_nsh=cond_tensor_nsh_jb, cond_cosmo=cond_cosmo_jb, mask_conc_truth=mask_tensor_conc_train_jb, Nhalos_truth=Nhalos_truth_tensor_jb, Mhalos_truth=Mhalos_truth_tensor_jb)\n",
    "\n"
   ]
  },
  {
   "cell_type": "code",
   "execution_count": 86,
   "metadata": {},
   "outputs": [
    {
     "data": {
      "text/plain": [
       "(0.0, 1.5130119)"
      ]
     },
     "execution_count": 86,
     "metadata": {},
     "output_type": "execute_result"
    }
   ],
   "source": [
    "np.amin(conc_samp_out), np.amax(conc_samp_out)\n"
   ]
  },
  {
   "cell_type": "code",
   "execution_count": 87,
   "metadata": {},
   "outputs": [],
   "source": [
    "c_halos_diff_recomb = np.reshape(conc_samp_out, (1, 128, 128, 128, (ndim_conc)))[0,...]\n",
    "c_halos_diff_recomb = np.reshape(c_halos_diff_recomb, (128, 128, 128, (ndim_conc)))\n",
    "\n"
   ]
  },
  {
   "cell_type": "code",
   "execution_count": 88,
   "metadata": {},
   "outputs": [],
   "source": [
    "Nhalos_pred_recomb = Nhalos_truth_tensor[...,0].reshape(ns_h, ns_h, ns_h)\n",
    "Mhalos_truth_tensor_recomb = Mhalos_truth_tensor[0,...].reshape(ns_h, ns_h, ns_h, ndim_mass)\n",
    "conc_sim_true_recomb = X_conc_sim_total_jb[0,...].reshape(ns_h, ns_h, ns_h, ndim_conc)\n",
    "conc_func_true_recomb = X_conc_func_total_jb[0,...].reshape(ns_h, ns_h, ns_h, ndim_conc)\n"
   ]
  },
  {
   "cell_type": "code",
   "execution_count": 89,
   "metadata": {},
   "outputs": [],
   "source": [
    "ch_diff_mock = []\n",
    "\n",
    "csim_true = []\n",
    "cfunc_true = []\n",
    "for jx in range(ns_h):\n",
    "    for jy in range(ns_h):\n",
    "        for jz in range(ns_h):\n",
    "                Nh_vox = int(Nhalos_pred_recomb[jx, jy, jz])\n",
    "                # Nh_vox = int(df_Nh_truth_comb[jx, jy, jz])                    \n",
    "                if Nh_vox > 0:\n",
    "                    ch_diff_mock.append(((c_halos_diff_recomb[jx, jy, jz, :Nh_vox])*((cmax - cmin)) + cmin))\n",
    "                    csim_true.append((conc_sim_true_recomb[jx, jy, jz, :Nh_vox].cpu().detach().numpy()*((cmax - cmin)) + cmin))\n",
    "                    cfunc_true.append((conc_func_true_recomb[jx, jy, jz, :Nh_vox].cpu().detach().numpy()*((cmax - cmin)) + cmin))\n",
    "\n",
    "\n",
    "ch_diff_mock = np.concatenate(ch_diff_mock)\n",
    "csim_true = np.concatenate(csim_true)\n",
    "cfunc_true = np.concatenate(cfunc_true)\n"
   ]
  },
  {
   "cell_type": "code",
   "execution_count": 90,
   "metadata": {},
   "outputs": [],
   "source": [
    "# np.amin(ch_diff_mock),np.amax(ch_diff_mock)\n"
   ]
  },
  {
   "cell_type": "code",
   "execution_count": 91,
   "metadata": {},
   "outputs": [
    {
     "data": {
      "text/plain": [
       "((654619,), (654619,), (654619,))"
      ]
     },
     "execution_count": 91,
     "metadata": {},
     "output_type": "execute_result"
    }
   ],
   "source": [
    "# Mhalos_truth_tensor.shape\n",
    "# np.concatenate(ch_diff_mock).shape, np.concatenate(lgMass_mock).shape\n",
    "csim_true.shape, lgMass_mock.shape, ch_diff_mock.shape\n"
   ]
  },
  {
   "cell_type": "code",
   "execution_count": 92,
   "metadata": {},
   "outputs": [],
   "source": [
    "# np.concatenate(ch_diff_mock).shape, lgMass_mock.shape\n",
    "# delta_conc = conc_sim - conc_func \n",
    "# \n",
    "from colossus.halo import concentration\n",
    "from colossus.cosmology import cosmology\n",
    "redshift = 0.5\n",
    "fid_cosmo_val_all = cond_cosmo_jb[0, 0, :].cpu().numpy()\n",
    "Om0 = fid_cosmo_val_all[0]\n",
    "Ob0 = fid_cosmo_val_all[1]\n",
    "h0 = fid_cosmo_val_all[2]\n",
    "ns = fid_cosmo_val_all[3]\n",
    "sigma8 = fid_cosmo_val_all[4]\n",
    "params = {'flat': True, 'H0': h0*100, 'Om0': Om0, 'Ob0': Ob0, 'sigma8': sigma8, 'ns': ns}\n",
    "cosmo = cosmology.setCosmology('myCosmo', **params)\n",
    "\n",
    "\n",
    "conc_func_mock = concentration.concentration(10**lgMass_mock, '200c', redshift, model = 'diemer19')\n",
    "\n"
   ]
  },
  {
   "cell_type": "code",
   "execution_count": 97,
   "metadata": {},
   "outputs": [],
   "source": [
    "# ch_total_mock = conc_func_mock + ch_diff_mock\n",
    "ch_total_mock = cfunc_true + ch_diff_mock\n"
   ]
  },
  {
   "cell_type": "code",
   "execution_count": 98,
   "metadata": {},
   "outputs": [],
   "source": [
    "# ch_total_mock.shape\n"
   ]
  },
  {
   "cell_type": "code",
   "execution_count": 99,
   "metadata": {},
   "outputs": [
    {
     "data": {
      "text/plain": [
       "<matplotlib.collections.PathCollection at 0x1553ed214070>"
      ]
     },
     "execution_count": 99,
     "metadata": {},
     "output_type": "execute_result"
    },
    {
     "data": {
      "image/png": "[encoded data removed]",
      "text/plain": [
       "<Figure size 640x480 with 1 Axes>"
      ]
     },
     "metadata": {},
     "output_type": "display_data"
    }
   ],
   "source": [
    "pl.figure()\n",
    "pl.scatter(ch_total_mock[::10], csim_true[::10], s=0.1)\n",
    "# pl.scatter(cfunc_true[::10], csim_true[::10], s=0.1)\n",
    "\n",
    "\n"
   ]
  },
  {
   "cell_type": "code",
   "execution_count": 56,
   "metadata": {},
   "outputs": [
    {
     "data": {
      "text/plain": [
       "(1, 2097152, 12)"
      ]
     },
     "execution_count": 56,
     "metadata": {},
     "output_type": "execute_result"
    }
   ],
   "source": [
    "X_conc_sim.shape\n",
    "# c_halos_all_sort.shape[:-2]"
   ]
  },
  {
   "cell_type": "code",
   "execution_count": 102,
   "metadata": {},
   "outputs": [
    {
     "data": {
      "text/plain": [
       "<matplotlib.legend.Legend at 0x15540b3cfa60>"
      ]
     },
     "execution_count": 102,
     "metadata": {},
     "output_type": "execute_result"
    },
    {
     "data": {
      "image/png": "[encoded data removed]",
      "text/plain": [
       "<Figure size 640x480 with 1 Axes>"
      ]
     },
     "metadata": {},
     "output_type": "display_data"
    }
   ],
   "source": [
    "pl.figure()\n",
    "_ = pl.hist(ch_total_mock, bins=100, alpha=0.5, label='sim', density=True, range=(0,10))\n",
    "_ = pl.hist(csim_true, bins=100, alpha=0.5, label='true', density=True, range=(0,10))\n",
    "# pl.yscale('log')\n",
    "pl.legend()\n"
   ]
  },
  {
   "cell_type": "code",
   "execution_count": 41,
   "metadata": {},
   "outputs": [
    {
     "data": {
      "text/plain": [
       "(512, 4096, 12)"
      ]
     },
     "execution_count": 41,
     "metadata": {},
     "output_type": "execute_result"
    }
   ],
   "source": [
    "# df_ch_sim_total.shape\n",
    "# c_halos_all_sort.shape\n"
   ]
  },
  {
   "cell_type": "code",
   "execution_count": 34,
   "metadata": {},
   "outputs": [
    {
     "name": "stderr",
     "output_type": "stream",
     "text": [
      "/tmp/ipykernel_75032/2937974782.py:21: RuntimeWarning: divide by zero encountered in log10\n",
      "  lgMass_truth = np.log10(mass_truth).astype(np.float32)\n"
     ]
    }
   ],
   "source": [
    "from colossus.halo import mass_so\n",
    "isim = 0\n",
    "is_fid = True\n",
    "z_REDSHIFT = 0.5\n",
    "if is_fid:\n",
    "    snap_dir_base = '/mnt/home/fvillaescusa/ceph/Quijote/Halos/Rockstar/fiducial_HR'\n",
    "else:\n",
    "    snap_dir_base = '/mnt/home/fvillaescusa/ceph/Quijote/Halos/Rockstar/latin_hypercube_HR'\n",
    "snapnum = 3\n",
    "MAS     = 'NGP'  #mass-assigment scheme\n",
    "verbose = False   #print information on progress\n",
    "snapdir = snap_dir_base + '/' + str(isim)  #folder hosting the catalogue\n",
    "rockstar = np.loadtxt(snapdir + '/out_' + str(snapnum) + '_pid.list')\n",
    "with open(snapdir + '/out_' + str(snapnum) + '_pid.list', 'r') as f:\n",
    "    lines = f.readlines()\n",
    "header = lines[0].split()\n",
    "# get the properties of the halos\n",
    "pos_h_truth = rockstar[:,header.index('X'):header.index('Z')+1]\n",
    "index_M = header.index('M200c')                    \n",
    "mass_truth = rockstar[:,index_M]  #Halo masses in Msun/h\n",
    "lgMass_truth = np.log10(mass_truth).astype(np.float32)\n",
    "vel_h_truth = rockstar[:,header.index('VX'):header.index('VZ')+1]\n",
    "Rs = rockstar[:,header.index('Rs')]\n",
    "\n",
    "\n",
    "indsel = np.where(mass_truth > 5e12)[0]\n",
    "pos_h_truth = pos_h_truth[indsel]\n",
    "vel_h_truth = vel_h_truth[indsel]\n",
    "lgMass_truth = lgMass_truth[indsel]\n",
    "mass_truth = mass_truth[indsel]\n",
    "Rs = Rs[indsel]\n",
    "Rhalo = (1+z_REDSHIFT)*mass_so.M_to_R(mass_truth, z_REDSHIFT, '200c')   \n",
    "conc_truth = Rhalo/Rs\n",
    "\n",
    "\n"
   ]
  },
  {
   "cell_type": "code",
   "execution_count": 35,
   "metadata": {},
   "outputs": [
    {
     "data": {
      "text/plain": [
       "(654697,)"
      ]
     },
     "execution_count": 35,
     "metadata": {},
     "output_type": "execute_result"
    }
   ],
   "source": [
    "conc_truth.shape\n"
   ]
  },
  {
   "cell_type": "code",
   "execution_count": null,
   "metadata": {},
   "outputs": [],
   "source": []
  },
  {
   "cell_type": "code",
   "execution_count": null,
   "metadata": {},
   "outputs": [],
   "source": []
  },
  {
   "cell_type": "code",
   "execution_count": null,
   "metadata": {},
   "outputs": [],
   "source": []
  },
  {
   "cell_type": "code",
   "execution_count": null,
   "metadata": {},
   "outputs": [],
   "source": []
  },
  {
   "cell_type": "code",
   "execution_count": null,
   "metadata": {},
   "outputs": [],
   "source": []
  },
  {
   "cell_type": "code",
   "execution_count": null,
   "metadata": {},
   "outputs": [],
   "source": []
  },
  {
   "cell_type": "code",
   "execution_count": null,
   "metadata": {},
   "outputs": [],
   "source": []
  },
  {
   "cell_type": "code",
   "execution_count": null,
   "metadata": {},
   "outputs": [],
   "source": []
  },
  {
   "cell_type": "code",
   "execution_count": null,
   "metadata": {},
   "outputs": [],
   "source": []
  },
  {
   "cell_type": "code",
   "execution_count": null,
   "metadata": {},
   "outputs": [],
   "source": []
  }
 ],
 "metadata": {
  "kernelspec": {
   "display_name": "ili-sbi",
   "language": "python",
   "name": "python3"
  },
  "language_info": {
   "codemirror_mode": {
    "name": "ipython",
    "version": 3
   },
   "file_extension": ".py",
   "mimetype": "text/x-python",
   "name": "python",
   "nbconvert_exporter": "python",
   "pygments_lexer": "ipython3",
   "version": "3.10.12"
  }
 },
 "nbformat": 4,
 "nbformat_minor": 2
}
