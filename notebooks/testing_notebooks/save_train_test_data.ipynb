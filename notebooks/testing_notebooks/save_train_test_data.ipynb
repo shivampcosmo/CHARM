{
 "cells": [
  {
   "cell_type": "code",
   "execution_count": 2,
   "metadata": {},
   "outputs": [
    {
     "name": "stdout",
     "output_type": "stream",
     "text": [
      "cuda\n"
     ]
    }
   ],
   "source": [
    "import sys, os\n",
    "os.environ[\"CUDA_VISIBLE_DEVICES\"] = \"0\"\n",
    "# import pickle as pk\n",
    "import numpy as np\n",
    "import torch\n",
    "if torch.cuda.is_available():\n",
    "    device = 'cuda'\n",
    "else:\n",
    "    device = 'cpu'\n",
    "print(device)\n",
    "dev = torch.device(device)\n",
    "import torch.optim as optim\n",
    "import sys, os\n",
    "from tqdm import tqdm\n",
    "\n",
    "import yaml\n",
    "import matplotlib\n",
    "import matplotlib.pyplot as pl\n",
    "pl.rc('text', usetex=True)\n",
    "# Palatino\n",
    "pl.rc('font', family='DejaVu Sans')\n",
    "%matplotlib inline\n",
    "import yaml\n",
    "\n",
    "\n",
    "# autoreload modules\n",
    "%load_ext autoreload\n",
    "%autoreload 2\n",
    "\n",
    "import matplotlib\n",
    "%matplotlib inline\n",
    "\n",
    "\n"
   ]
  },
  {
   "cell_type": "code",
   "execution_count": 16,
   "metadata": {},
   "outputs": [
    {
     "name": "stderr",
     "output_type": "stream",
     "text": [
      "  0%|          | 0/2000 [00:00<?, ?it/s]"
     ]
    },
    {
     "name": "stderr",
     "output_type": "stream",
     "text": [
      "100%|██████████| 2000/2000 [02:06<00:00, 15.81it/s]\n",
      "100%|██████████| 2000/2000 [02:06<00:00, 15.80it/s]\n",
      "100%|██████████| 2000/2000 [02:02<00:00, 16.32it/s]\n",
      "100%|██████████| 2000/2000 [01:44<00:00, 19.05it/s]\n",
      "100%|██████████| 2000/2000 [02:03<00:00, 16.20it/s]\n",
      "100%|██████████| 2000/2000 [01:47<00:00, 18.55it/s]\n",
      "100%|██████████| 2000/2000 [01:54<00:00, 17.52it/s]\n",
      "100%|██████████| 2000/2000 [01:46<00:00, 18.74it/s]\n",
      "100%|██████████| 2000/2000 [02:12<00:00, 15.05it/s]\n",
      "100%|██████████| 2000/2000 [02:00<00:00, 16.63it/s]\n",
      "100%|██████████| 2000/2000 [01:46<00:00, 18.84it/s]\n",
      "100%|██████████| 2000/2000 [01:43<00:00, 19.41it/s]\n"
     ]
    }
   ],
   "source": [
    "from tqdm import tqdm\n",
    "import pickle as pk\n",
    "import dill\n",
    "ldir_stats = '/mnt/home/spandey/ceph/CHARM/data/summary_stats_galaxies_sigpos_8/'\n",
    "pos = 'rsd'\n",
    "isim_array = np.arange(0,2000)\n",
    "\n",
    "pk_type_all = ['mono', 'quad', 'all']\n",
    "do_wavelets_all = ['s0_s1_s2', 's1_s2', 's1', 'None']\n",
    "\n",
    "for pk_type in pk_type_all:\n",
    "    for do_wavelets in do_wavelets_all:\n",
    "        x_all = []\n",
    "        x_all_truth = []\n",
    "        theta_all = []\n",
    "        for ji in tqdm(range(len(isim_array))):\n",
    "            isim = isim_array[ji]\n",
    "            try:\n",
    "                saved_j = pk.load(open(ldir_stats + '/Pk_Bk_galaxy_LH_' + str(isim) + '.dill', 'rb'))    \n",
    "                saved_w = pk.load(open(ldir_stats + '/wavelets_simbigsettings_galaxy_LH_' + str(isim) + '.dill', 'rb'))    \n",
    "                \n",
    "                for ihod in range(10):\n",
    "                    if pk_type == 'mono':\n",
    "                        Pk_mock_ds = saved_j[pos + f'_Pk_mock_{ihod}'][:,:1].T\n",
    "                        Pk_truth_ds = saved_j[pos + f'_Pk_truth_{ihod}'][:,:1].T\n",
    "                    \n",
    "                    if pk_type == 'quad':\n",
    "                        Pk_mock_ds = saved_j[pos + f'_Pk_mock_{ihod}'][:,:2].T\n",
    "                        Pk_truth_ds = saved_j[pos + f'_Pk_truth_{ihod}'][:,:2].T\n",
    "                    \n",
    "                    if pk_type == 'all':\n",
    "                        Pk_mock_ds = saved_j[pos + f'_Pk_mock_{ihod}'][:,:3].T\n",
    "                        Pk_truth_ds = saved_j[pos + f'_Pk_truth_{ihod}'][:,:3].T\n",
    "\n",
    "\n",
    "\n",
    "                    Bk_truth_k0p06 = saved_j[pos + f'_Bk_truth_0p08_{ihod}'][1:-1]\n",
    "                    Bk_mock_k0p06 = saved_j[pos + f'_Bk_mock_0p08_{ihod}'][1:-1]\n",
    "\n",
    "                    Bk_truth_k0p2 = saved_j[pos + f'_Bk_truth_0p16_{ihod}'][1:-1]\n",
    "                    Bk_mock_k0p2 = saved_j[pos + f'_Bk_mock_0p16_{ihod}'][1:-1]\n",
    "\n",
    "                    Bk_truth_k0p3 = saved_j[pos + f'_Bk_truth_0p32_{ihod}'][1:-1]\n",
    "                    Bk_mock_k0p3 = saved_j[pos + f'_Bk_mock_0p32_{ihod}'][1:-1]\n",
    "\n",
    "                    s0_mock = saved_w[pos + f'_s0_mock_{ihod}']\n",
    "                    s0_truth = saved_w[pos + f'_s0_truth_{ihod}']\n",
    "\n",
    "                    s1_mock = saved_w[pos + f'_s1_mock_{ihod}']\n",
    "                    s1_truth = saved_w[pos + f'_s1_truth_{ihod}']\n",
    "\n",
    "                    s2_mock = saved_w[pos + f'_s2_mock_{ihod}']\n",
    "                    s2_truth = saved_w[pos + f'_s2_truth_{ihod}']\n",
    "\n",
    "                    if do_wavelets == 's0_s1_s2':\n",
    "                        summary_concat_mock_all_weighted = np.concatenate((Pk_mock_ds.flatten(), Bk_mock_k0p06, Bk_mock_k0p2, Bk_mock_k0p3, s0_mock, s1_mock[::3], s2_mock[::6]))\n",
    "                        summary_concat_truth_all_weighted = np.concatenate((Pk_truth_ds.flatten(), Bk_truth_k0p06, Bk_truth_k0p2, Bk_truth_k0p3, s0_truth, s1_truth[::3], s2_truth[::6]))\n",
    "                    elif do_wavelets == 's1_s2':\n",
    "                        summary_concat_mock_all_weighted = np.concatenate((Pk_mock_ds.flatten(), Bk_mock_k0p06, Bk_mock_k0p2, Bk_mock_k0p3, s1_mock[::3], s2_mock[::6]))\n",
    "                        summary_concat_truth_all_weighted = np.concatenate((Pk_truth_ds.flatten(), Bk_truth_k0p06, Bk_truth_k0p2, Bk_truth_k0p3, s1_truth[::3], s2_truth[::6]))\n",
    "                    elif do_wavelets == 's1':\n",
    "                        summary_concat_mock_all_weighted = np.concatenate((Pk_mock_ds.flatten(), Bk_mock_k0p06, Bk_mock_k0p2, Bk_mock_k0p3, s1_mock[::3]))\n",
    "                        summary_concat_truth_all_weighted = np.concatenate((Pk_truth_ds.flatten(), Bk_truth_k0p06, Bk_truth_k0p2, Bk_truth_k0p3, s1_truth[::3]))\n",
    "                    else:\n",
    "                        summary_concat_mock_all_weighted = np.concatenate((Pk_mock_ds.flatten(), Bk_mock_k0p06, Bk_mock_k0p2, Bk_mock_k0p3))\n",
    "                        summary_concat_truth_all_weighted = np.concatenate((Pk_truth_ds.flatten(), Bk_truth_k0p06, Bk_truth_k0p2, Bk_truth_k0p3))\n",
    "\n",
    "                    theta_hod = list(saved_j[f'theta_hod_{ihod}'].values())\n",
    "                    theta_cosmo = list(saved_j[f'theta_cosmo_{ihod}'].values())[:-1]\n",
    "                    theta_comb = np.array(theta_cosmo + theta_hod)\n",
    "\n",
    "\n",
    "                    if len(x_all) == 0:\n",
    "                        x_all = summary_concat_mock_all_weighted[None,:]\n",
    "                        x_all_truth = summary_concat_truth_all_weighted[None,:]            \n",
    "                        theta_all = theta_comb[None,:]\n",
    "                    else:\n",
    "                        x_new = summary_concat_mock_all_weighted[None,:]\n",
    "                        x_new_truth = summary_concat_truth_all_weighted[None,:]         \n",
    "\n",
    "                        x_all = np.concatenate((x_all, x_new), axis = 0)       \n",
    "                        x_all_truth = np.concatenate((x_all_truth, x_new_truth), axis = 0)       \n",
    "                        theta_all = np.concatenate((theta_all, theta_comb[None,:]), axis = 0)\n",
    "                \n",
    "            except Exception as e:\n",
    "                print(e)\n",
    "                pass\n",
    "\n",
    "\n",
    "        # x_all.shape, x_all_truth.shape, theta_all.shape\n",
    "        saved = {'x_all': x_all, 'x_all_truth': x_all_truth, 'theta_all': theta_all}\n",
    "        import pickle as pk\n",
    "        pk.dump(saved, open(f'/mnt/home/spandey/ceph/CHARM/charm/sweep/data/saved_data_pk_{pk_type}_bk_wavelets_{do_wavelets}.pk', 'wb'))\n",
    "\n",
    "\n",
    "\n"
   ]
  },
  {
   "cell_type": "code",
   "execution_count": 1,
   "metadata": {},
   "outputs": [],
   "source": [
    "import sys, os\n",
    "pk_type_all = ['mono', 'quad', 'all']\n",
    "do_wavelets_all = ['s0_s1_s2', 's1_s2', 's1', 'None']\n",
    "# make directory:\n",
    "for pk_type in pk_type_all:\n",
    "    for do_wavelets in do_wavelets_all:\n",
    "        fdir_name = f'/mnt/home/spandey/ceph/CHARM/charm/sweep/output/trained_summary_pk_{pk_type}_bk_wavelets_{do_wavelets}/'\n",
    "        os.system(f'mkdir -p {fdir_name}')\n",
    "\n",
    "\n",
    "\n"
   ]
  },
  {
   "cell_type": "code",
   "execution_count": 13,
   "metadata": {},
   "outputs": [],
   "source": [
    "# x_all.shape\n",
    "import pickle as pk\n",
    "val_loss_all = np.zeros(256)\n",
    "for ji in range(256):\n",
    "    try:\n",
    "        df = pk.load(open(f'/mnt/ceph/users/spandey/CHARM/charm/sweep/output/trained_summary/saved_{ji}.pkl','rb'))\n",
    "        val_loss_all[ji] = df['best_validation_log_prob']\n",
    "    except:\n",
    "        pass"
   ]
  },
  {
   "cell_type": "code",
   "execution_count": 15,
   "metadata": {},
   "outputs": [
    {
     "data": {
      "text/plain": [
       "(15.0, 22.0)"
      ]
     },
     "execution_count": 15,
     "metadata": {},
     "output_type": "execute_result"
    },
    {
     "data": {
      "image/png": "[encoded data removed]",
      "text/plain": [
       "<Figure size 640x480 with 1 Axes>"
      ]
     },
     "metadata": {},
     "output_type": "display_data"
    }
   ],
   "source": [
    "ind_best = np.flip(np.argsort(val_loss_all))\n",
    "\n"
   ]
  },
  {
   "cell_type": "code",
   "execution_count": null,
   "metadata": {},
   "outputs": [],
   "source": []
  }
 ],
 "metadata": {
  "kernelspec": {
   "display_name": "ili-sbi",
   "language": "python",
   "name": "python3"
  },
  "language_info": {
   "codemirror_mode": {
    "name": "ipython",
    "version": 3
   },
   "file_extension": ".py",
   "mimetype": "text/x-python",
   "name": "python",
   "nbconvert_exporter": "python",
   "pygments_lexer": "ipython3",
   "version": "3.10.12"
  }
 },
 "nbformat": 4,
 "nbformat_minor": 2
}
