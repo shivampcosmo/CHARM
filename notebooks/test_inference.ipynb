{
 "cells": [
  {
   "cell_type": "code",
   "execution_count": 1,
   "metadata": {},
   "outputs": [
    {
     "name": "stdout",
     "output_type": "stream",
     "text": [
      "cuda\n"
     ]
    }
   ],
   "source": [
    "import sys, os\n",
    "os.environ[\"CUDA_VISIBLE_DEVICES\"] = \"0\"\n",
    "# import pickle as pk\n",
    "import numpy as np\n",
    "import torch\n",
    "if torch.cuda.is_available():\n",
    "    device = 'cuda'\n",
    "else:\n",
    "    device = 'cpu'\n",
    "print(device)\n",
    "dev = torch.device(device)\n",
    "import torch.optim as optim\n",
    "import sys, os\n",
    "from tqdm import tqdm\n",
    "\n",
    "import yaml\n",
    "import matplotlib\n",
    "import matplotlib.pyplot as pl\n",
    "pl.rc('text', usetex=True)\n",
    "# Palatino\n",
    "pl.rc('font', family='DejaVu Sans')\n",
    "%matplotlib inline\n",
    "import yaml\n",
    "\n",
    "\n",
    "# autoreload modules\n",
    "%load_ext autoreload\n",
    "%autoreload 2\n",
    "\n",
    "import matplotlib\n",
    "%matplotlib inline\n",
    "\n"
   ]
  },
  {
   "cell_type": "code",
   "execution_count": 2,
   "metadata": {},
   "outputs": [
    {
     "name": "stderr",
     "output_type": "stream",
     "text": [
      "/mnt/home/spandey/miniconda3/envs/ili-sbi/lib/python3.10/site-packages/tqdm/auto.py:21: TqdmWarning: IProgress not found. Please update jupyter and ipywidgets. See https://ipywidgets.readthedocs.io/en/stable/user_install.html\n",
      "  from .autonotebook import tqdm as notebook_tqdm\n"
     ]
    }
   ],
   "source": [
    "import matplotlib.pyplot as plt\n",
    "import torch\n",
    "import torch.nn as nn\n",
    "import torch.nn.functional as F\n",
    "from sbi import utils\n",
    "from sbi import analysis\n",
    "from sbi import inference\n",
    "from sbi.inference import SNPE, SNLE, SNRE, simulate_for_sbi, prepare_for_sbi\n",
    "\n",
    "\n"
   ]
  },
  {
   "cell_type": "code",
   "execution_count": 3,
   "metadata": {},
   "outputs": [
    {
     "name": "stderr",
     "output_type": "stream",
     "text": [
      "100%|██████████| 1800/1800 [00:40<00:00, 44.50it/s]\n"
     ]
    }
   ],
   "source": [
    "from tqdm import tqdm\n",
    "import pickle as pk\n",
    "\n",
    "ldir_stats = '/mnt/home/spandey/ceph/CHARM/data/summary_stats_charm_truth_nsubv_vel_10k/'\n",
    "pos = 'rsd'\n",
    "isim_array = np.arange(0,1800)\n",
    "for ji in tqdm(range(len(isim_array))):\n",
    "    isim = isim_array[ji]\n",
    "    # saved_j = pk.load(open(ldir_stats + '/saved_stats_halos_' + str(isim) + '_CMASS.pk', 'rb'))\n",
    "    try:\n",
    "        # saved_j = pk.load(open(ldir_stats + '/saved_stats_halos_with_MASS_WEIGHTED_' + str(isim) + '_CMASS.pk', 'rb'))    \n",
    "        saved_j = pk.load(open(ldir_stats + '/summary_stats_weighted_rsd_' + str(isim) + '_nbar_4en4.pk', 'rb'))    \n",
    "        # saved_j = pk.load(open(ldir_stats + '/summary_stats_weighted_rsd_' + str(isim) + '_lgMmin_13p0.pk', 'rb'))    \n",
    "\n",
    "        # Pk_mock_ds = saved_j[pos + '_Pk_mock_weighted'][:,:3][:,None]\n",
    "        # Pk_truth_ds = saved_j[pos + '_Pk_truth_weighted'][:,:3][:,None]\n",
    "\n",
    "        Pk_mock_ds = saved_j[pos + '_Pk_mock_weighted'][:,:2].T\n",
    "        Pk_truth_ds = saved_j[pos + '_Pk_truth_weighted'][:,:2].T\n",
    "\n",
    "\n",
    "        Bk_truth_k0p06 = saved_j[pos + '_Bk_truth_k0p06_weighted'][1:-1]\n",
    "        Bk_mock_k0p06 = saved_j[pos + '_Bk_mock_k0p06_weighted'][1:-1]\n",
    "\n",
    "        Bk_truth_k0p2 = saved_j[pos + '_Bk_truth_k0p2_weighted'][1:-1]\n",
    "        Bk_mock_k0p2 = saved_j[pos + '_Bk_mock_k0p2_weighted'][1:-1]\n",
    "\n",
    "        Bk_truth_k0p3 = saved_j[pos + '_Bk_truth_k0p3_weighted'][1:-1]\n",
    "        Bk_mock_k0p3 = saved_j[pos + '_Bk_mock_k0p3_weighted'][1:-1]\n",
    "\n",
    "        s0_mock = saved_j[pos + '_s0_mock_weighted']\n",
    "        s0_truth = saved_j[pos + 's0_truth_weighted']\n",
    "\n",
    "        s1_mock = saved_j[pos + '_s1_mock_weighted']\n",
    "        s1_truth = saved_j[pos + 's1_truth_weighted']\n",
    "\n",
    "        s2_mock = saved_j[pos + '_s2_mock_weighted']\n",
    "        s2_truth = saved_j[pos + 's2_truth_weighted']\n",
    "\n",
    "        # summary_concat_mock_all_weighted = np.concatenate((Pk_mock_ds.flatten(), Bk_mock_k0p06, Bk_mock_k0p2, Bk_mock_k0p3, s0_mock, s1_mock[::4], s2_mock[::6]))\n",
    "        # summary_concat_truth_all_weighted = np.concatenate((Pk_truth_ds.flatten(), Bk_truth_k0p06, Bk_truth_k0p2, Bk_truth_k0p3, s0_truth, s1_truth[::4], s2_truth[::6]))\n",
    "\n",
    "        summary_concat_mock_all_weighted = np.concatenate((Pk_mock_ds.flatten(), Bk_mock_k0p06, Bk_mock_k0p2, Bk_mock_k0p3, s1_mock[::4], s2_mock[::6]))\n",
    "        summary_concat_truth_all_weighted = np.concatenate((Pk_truth_ds.flatten(), Bk_truth_k0p06, Bk_truth_k0p2, Bk_truth_k0p3, s1_truth[::4], s2_truth[::6]))\n",
    "\n",
    "\n",
    "        # summary_concat_mock_all_weighted = np.concatenate((Pk_mock_ds.flatten(), s1_mock[::4], s2_mock[::6]))\n",
    "        # summary_concat_truth_all_weighted = np.concatenate((Pk_truth_ds.flatten(), s1_truth[::4], s2_truth[::6]))\n",
    "\n",
    "\n",
    "        # summary_concat_mock_all_weighted = Pk_mock_ds.flatten()\n",
    "        # summary_concat_truth_all_weighted = Pk_truth_ds.flatten()\n",
    "\n",
    "\n",
    "        # saved_j = pk.load(open(ldir_stats + '/summary_stats_weighted_rsd_' + str(isim) + '_lgMmin_13p0.pk', 'rb'))    \n",
    "\n",
    "        # saved_j2 = pk.load(open(ldir_stats + '/saved_stats_MASS_WEIGHTED_halos_' + str(isim) + '_CMASS.pk', 'rb'))\n",
    "        # saved_j['summary_concat_mock_all'] = summary_concat_mock_all\n",
    "        # saved_j['summary_concat_truth_all'] = summary_concat_truth_all\n",
    "        # saved_j['cosmo'] = cosmo\n",
    "        if ji == 0:\n",
    "            # x_all = saved_j['summary_concat_mock_all'][None,:]\n",
    "            # x_all_truth = saved_j['summary_concat_truth_all'][None,:]            \n",
    "\n",
    "            # x_all = saved_j[pos + '_summary_concat_mock_all_weighted'][None,:]\n",
    "            # x_all_truth = saved_j[pos + '_summary_concat_truth_all_weighted'][None,:]            \n",
    "\n",
    "            x_all = summary_concat_mock_all_weighted[None,:]\n",
    "            x_all_truth = summary_concat_truth_all_weighted[None,:]            \n",
    "\n",
    "\n",
    "            # x_all = saved_j[pos + '_Pk_mock_weighted'].flatten()[None,:]\n",
    "            # x_all_truth = saved_j[pos + '_Pk_truth_weighted'].flatten()[None,:]            \n",
    "\n",
    "            theta_all = saved_j['cosmo'][None,:]\n",
    "        else:\n",
    "            # x_new = saved_j['summary_concat_mock_all'][None,:]\n",
    "            # x_new_truth = saved_j['summary_concat_truth_all'][None,:]      \n",
    "            #       \n",
    "            # x_new = saved_j[pos + '_summary_concat_mock_all_weighted'][None,:]\n",
    "            # x_new_truth = saved_j[pos + '_summary_concat_truth_all_weighted'][None,:]         \n",
    "\n",
    "            x_new = summary_concat_mock_all_weighted[None,:]\n",
    "            x_new_truth = summary_concat_truth_all_weighted[None,:]         \n",
    "\n",
    "\n",
    "            # x_all = np.concatenate((x_all, saved_j['summary_concat_mock_all'][None,:]), axis = 0)\n",
    "            x_all = np.concatenate((x_all, x_new), axis = 0)       \n",
    "            x_all_truth = np.concatenate((x_all_truth, x_new_truth), axis = 0)       \n",
    "            theta_all = np.concatenate((theta_all, saved_j['cosmo'][None,:]), axis = 0)\n",
    "        \n",
    "    except:\n",
    "        pass\n",
    "\n",
    "\n"
   ]
  },
  {
   "cell_type": "code",
   "execution_count": 1,
   "metadata": {},
   "outputs": [
    {
     "ename": "NameError",
     "evalue": "name 'x_all' is not defined",
     "output_type": "error",
     "traceback": [
      "\u001b[0;31m---------------------------------------------------------------------------\u001b[0m",
      "\u001b[0;31mNameError\u001b[0m                                 Traceback (most recent call last)",
      "Cell \u001b[0;32mIn[1], line 10\u001b[0m\n\u001b[1;32m      1\u001b[0m \u001b[38;5;66;03m# # Pk_mock_ds.shape\u001b[39;00m\n\u001b[1;32m      2\u001b[0m \u001b[38;5;66;03m# pl.figure()\u001b[39;00m\n\u001b[1;32m      3\u001b[0m \u001b[38;5;66;03m# pl.plot(saved_j[pos + '_k_Pk_weighted'], Pk_mock_ds[0], label = 'mock')\u001b[39;00m\n\u001b[0;32m   (...)\u001b[0m\n\u001b[1;32m      8\u001b[0m \n\u001b[1;32m      9\u001b[0m \u001b[38;5;66;03m# pl.yscale('log')\u001b[39;00m\n\u001b[0;32m---> 10\u001b[0m \u001b[43mx_all\u001b[49m\u001b[38;5;241m.\u001b[39mshape\n",
      "\u001b[0;31mNameError\u001b[0m: name 'x_all' is not defined"
     ]
    }
   ],
   "source": [
    "# # Pk_mock_ds.shape\n",
    "# pl.figure()\n",
    "# pl.plot(saved_j[pos + '_k_Pk_weighted'], Pk_mock_ds[0], label = 'mock')\n",
    "# pl.plot(saved_j[pos + '_k_Pk_weighted'], Pk_mock_ds[1], label = 'mock')\n",
    "\n",
    "# pl.plot(saved_j[pos + '_k_Pk_weighted'], Pk_truth_ds[0], ls='--', label = 'mock')\n",
    "# pl.plot(saved_j[pos + '_k_Pk_weighted'], Pk_truth_ds[1], ls='--', label = 'mock')\n",
    "\n",
    "# pl.yscale('log')\n",
    "# x_all.shape\n",
    "\n"
   ]
  },
  {
   "cell_type": "code",
   "execution_count": 24,
   "metadata": {},
   "outputs": [
    {
     "data": {
      "text/plain": [
       "[<matplotlib.lines.Line2D at 0x15541b546a40>]"
      ]
     },
     "execution_count": 24,
     "metadata": {},
     "output_type": "execute_result"
    },
    {
     "data": {
      "image/png": "[encoded data removed]",
      "text/plain": [
       "<Figure size 640x480 with 1 Axes>"
      ]
     },
     "metadata": {},
     "output_type": "display_data"
    }
   ],
   "source": [
    "# len(Pk_mock_ds.flatten()) + len(Bk_mock_k0p06)\n",
    "pl.figure()\n",
    "pl.plot(x_all[0,:len(Pk_mock_ds.flatten())], label = 'mock')\n",
    "\n",
    "\n"
   ]
  },
  {
   "cell_type": "code",
   "execution_count": null,
   "metadata": {},
   "outputs": [],
   "source": []
  },
  {
   "cell_type": "code",
   "execution_count": 25,
   "metadata": {},
   "outputs": [
    {
     "data": {
      "text/plain": [
       "<matplotlib.lines.Line2D at 0x15542a3cb430>"
      ]
     },
     "execution_count": 25,
     "metadata": {},
     "output_type": "execute_result"
    },
    {
     "data": {
      "image/png": "[encoded data removed]",
      "text/plain": [
       "<Figure size 640x480 with 1 Axes>"
      ]
     },
     "metadata": {},
     "output_type": "display_data"
    }
   ],
   "source": [
    "x_all_diff = (x_all - x_all_truth)/x_all_truth\n",
    "x_all_diff_std = np.std(x_all_diff, axis = 0)\n",
    "x_all_diff_mean = np.mean(x_all_diff, axis = 0)\n",
    "\n",
    "\n",
    "pl.figure()\n",
    "pl.errorbar(np.arange(0, x_all_diff_mean.shape[0]), x_all_diff_mean, yerr = x_all_diff_std)\n",
    "pl.ylim(-1.7, 1.7)\n",
    "pl.axhline(0.0,ls='--', color='k')\n",
    "\n",
    "\n"
   ]
  },
  {
   "cell_type": "code",
   "execution_count": 26,
   "metadata": {},
   "outputs": [
    {
     "name": "stderr",
     "output_type": "stream",
     "text": [
      "/mnt/home/spandey/miniconda3/envs/ili-sbi/lib/python3.10/site-packages/numpy/core/fromnumeric.py:3504: RuntimeWarning: Mean of empty slice.\n",
      "  return _methods._mean(a, axis=axis, dtype=dtype,\n",
      "/mnt/home/spandey/miniconda3/envs/ili-sbi/lib/python3.10/site-packages/numpy/core/_methods.py:121: RuntimeWarning: invalid value encountered in divide\n",
      "  ret = um.true_divide(\n",
      "/mnt/home/spandey/miniconda3/envs/ili-sbi/lib/python3.10/site-packages/numpy/core/_methods.py:206: RuntimeWarning: Degrees of freedom <= 0 for slice\n",
      "  ret = _var(a, axis=axis, dtype=dtype, out=out, ddof=ddof,\n",
      "/mnt/home/spandey/miniconda3/envs/ili-sbi/lib/python3.10/site-packages/numpy/core/_methods.py:163: RuntimeWarning: invalid value encountered in divide\n",
      "  arrmean = um.true_divide(arrmean, div, out=arrmean,\n",
      "/mnt/home/spandey/miniconda3/envs/ili-sbi/lib/python3.10/site-packages/numpy/core/_methods.py:195: RuntimeWarning: invalid value encountered in divide\n",
      "  ret = um.true_divide(\n"
     ]
    },
    {
     "data": {
      "text/plain": [
       "<matplotlib.lines.Line2D at 0x15541b3bf760>"
      ]
     },
     "execution_count": 26,
     "metadata": {},
     "output_type": "execute_result"
    },
    {
     "data": {
      "image/png": "[encoded data removed]",
      "text/plain": [
       "<Figure size 640x480 with 1 Axes>"
      ]
     },
     "metadata": {},
     "output_type": "display_data"
    }
   ],
   "source": [
    "x_all_diff = (x_all - x_all_truth)/x_all_truth\n",
    "x_all_diff_mean = np.mean(x_all_diff, axis = 0)\n",
    "x_all_diff_std = np.std(x_all_diff, axis = 0)\n",
    "\n",
    "pl.figure()\n",
    "pl.errorbar(np.arange(0, x_all_diff.shape[1]), np.mean(x_all_diff[:1800,:], axis = 0), yerr = np.std(x_all_diff[:1800,:], axis = 0))\n",
    "pl.errorbar(np.arange(0, x_all_diff.shape[1]), np.mean(x_all_diff[1800:,:], axis = 0), yerr = np.std(x_all_diff[1800:,:], axis = 0))\n",
    "pl.ylim(-0.3, 0.3)\n",
    "pl.axhline(0.0,ls='--', color='k')\n",
    "\n",
    "\n"
   ]
  },
  {
   "cell_type": "code",
   "execution_count": 5,
   "metadata": {},
   "outputs": [],
   "source": [
    "# x_all.shape, theta_all.shape\n",
    "# saved_j['summary_concat_mock_all']\n",
    "x_all_std = np.std(x_all, axis = 0)\n",
    "x_all_mean = np.mean(x_all, axis = 0)\n",
    "theta_all_std = np.std(theta_all, axis = 0)\n",
    "theta_all_mean = np.mean(theta_all, axis = 0)\n",
    "\n",
    "\n"
   ]
  },
  {
   "cell_type": "code",
   "execution_count": 82,
   "metadata": {},
   "outputs": [],
   "source": [
    "# np.mean(theta_all)\n",
    "# x_all.shape\n",
    "# x_all.shape\n",
    "# ji = 50\n",
    "# pl.figure()\n",
    "# pl.plot(np.arange(x_all.shape[1]), np.std(x_all, axis = 0))\n",
    "# x\n"
   ]
  },
  {
   "cell_type": "code",
   "execution_count": 6,
   "metadata": {},
   "outputs": [],
   "source": [
    "# only infer Om and sig8\n",
    "indsel_p = [0, 4]\n",
    "# indsel_p = [0, 1, 2, 3, 4]\n",
    "\n"
   ]
  },
  {
   "cell_type": "code",
   "execution_count": 7,
   "metadata": {},
   "outputs": [],
   "source": [
    "# x_all = torch.tensor(x_all).float()\n",
    "# theta_all = torch.tensor(theta_all).float()\n",
    "x_all = torch.Tensor((x_all - x_all_mean)/x_all_std).float()\n",
    "# x_all = torch.Tensor((x_all)/x_all_std).float()\n",
    "theta_all = torch.Tensor((theta_all - theta_all_mean)/theta_all_std).float()[:, indsel_p]\n",
    "\n",
    "\n",
    "\n",
    "\n"
   ]
  },
  {
   "cell_type": "code",
   "execution_count": 8,
   "metadata": {},
   "outputs": [],
   "source": [
    "theta_all_std = theta_all_std[indsel_p]\n",
    "theta_all_mean = theta_all_mean[indsel_p]\n",
    "\n"
   ]
  },
  {
   "cell_type": "code",
   "execution_count": 10,
   "metadata": {},
   "outputs": [],
   "source": [
    "prior = utils.BoxUniform(\n",
    "    low=(torch.tensor((np.array([0.1, 0.03, 0.5, 0.8, 0.6])[indsel_p]  - theta_all_mean)/theta_all_std)), \n",
    "    high=torch.tensor((np.array([0.5, 0.07, 0.9, 1.2, 1.0])[indsel_p] - theta_all_mean)/theta_all_std)\n",
    ")\n",
    "\n",
    "# neural_posterior = utils.posterior_nn(\n",
    "#     model=\"maf\", hidden_features=25, num_transforms=5\n",
    "# )\n",
    "\n",
    "# neural_posterior = utils.posterior_nn(\n",
    "#     model=\"maf\", hidden_features=15, num_transforms=4\n",
    "# )\n",
    "\n",
    "# neural_posterior = utils.posterior_nn(\n",
    "#     model=\"maf\", hidden_features=50, num_transforms=5\n",
    "# )\n",
    "\n",
    "# neural_posterior = utils.posterior_nn(\n",
    "#     model=\"maf\", hidden_features=30, num_transforms=3\n",
    "# )\n",
    "\n",
    "\n",
    "neural_posterior = utils.posterior_nn(\n",
    "    model=\"maf\", hidden_features=20, num_transforms=10\n",
    ")\n",
    "\n",
    "\n",
    "\n",
    "# setup the inference procedure with the SNPE-C procedure\n",
    "inference = SNPE(prior=prior, density_estimator=neural_posterior)\n",
    "# inference = SNLE(prior=prior, density_estimator=neural_posterior)\n",
    "\n",
    "\n",
    "\n"
   ]
  },
  {
   "cell_type": "code",
   "execution_count": 238,
   "metadata": {},
   "outputs": [
    {
     "data": {
      "text/plain": [
       "[<matplotlib.lines.Line2D at 0x1553fe067400>]"
      ]
     },
     "execution_count": 238,
     "metadata": {},
     "output_type": "execute_result"
    },
    {
     "data": {
      "image/png": "[encoded data removed]",
      "text/plain": [
       "<Figure size 640x480 with 1 Axes>"
      ]
     },
     "metadata": {},
     "output_type": "display_data"
    }
   ],
   "source": [
    "ji = 50\n",
    "pl.figure()\n",
    "# pl.plot(np.arange(x_all.shape[1]), np.std(x_all, axis = 0))\n",
    "pl.plot(np.arange(x_all.shape[1]), x_all[ji, :])\n",
    "\n",
    "\n"
   ]
  },
  {
   "cell_type": "code",
   "execution_count": 239,
   "metadata": {},
   "outputs": [
    {
     "data": {
      "text/plain": [
       "(torch.Size([1800, 2]), torch.Size([1800, 94]))"
      ]
     },
     "execution_count": 239,
     "metadata": {},
     "output_type": "execute_result"
    }
   ],
   "source": [
    "theta_all.shape, x_all.shape\n",
    "\n"
   ]
  },
  {
   "cell_type": "code",
   "execution_count": 11,
   "metadata": {},
   "outputs": [
    {
     "name": "stdout",
     "output_type": "stream",
     "text": [
      " Neural network successfully converged after 54 epochs.slice_np_vectorized\n"
     ]
    }
   ],
   "source": [
    "# inference = SNPE(prior=prior, density_estimator=neural_posterior)\n",
    "# density_estimator = inference.append_simulations(theta_all, x_all).train()\n",
    "# posterior = inference.build_posterior(density_estimator)\n",
    "# posterior = inference.build_posterior(density_estimator)\n",
    "\n",
    "# inferer = SNLE(prior, density_estimator=\"maf\")\n",
    "inferer = SNRE(prior)\n",
    "inferer = inferer.append_simulations(theta_all, x_all)\n",
    "likelihood_estimator = inferer.train()\n",
    "posterior = inferer.build_posterior(mcmc_method=\"slice_np_vectorized\", \n",
    "                                    mcmc_parameters=dict(thin=1))\n",
    "\n",
    "\n"
   ]
  },
  {
   "cell_type": "code",
   "execution_count": null,
   "metadata": {},
   "outputs": [],
   "source": [
    "\n",
    "\n"
   ]
  },
  {
   "cell_type": "code",
   "execution_count": 35,
   "metadata": {},
   "outputs": [
    {
     "name": "stdout",
     "output_type": "stream",
     "text": [
      "0\n",
      "slice_np_vectorized\n"
     ]
    },
    {
     "name": "stderr",
     "output_type": "stream",
     "text": [
      "\n",
      "\u001b[A\n",
      "\u001b[A\n",
      "\u001b[A\n",
      "\u001b[A\n",
      "\u001b[A\n",
      "\u001b[A\n",
      "\u001b[A\n",
      "\u001b[A\n",
      "\u001b[A\n",
      "\u001b[A\n",
      "\u001b[A\n",
      "\u001b[A\n",
      "\u001b[A\n",
      "\u001b[A\n",
      "\u001b[A\n",
      "\u001b[A\n",
      "\u001b[A\n",
      "\u001b[A\n",
      "\u001b[A\n",
      "\u001b[A\n",
      "\u001b[A\n",
      "\u001b[A\n",
      "\u001b[A\n",
      "\u001b[A\n",
      "\u001b[A\n",
      "\u001b[A\n",
      "\u001b[A\n",
      "\u001b[A\n",
      "\u001b[A\n",
      "\u001b[A\n",
      "\u001b[A\n",
      "\u001b[A\n",
      "\u001b[A\n",
      "\u001b[A\n",
      "\u001b[A\n",
      "\u001b[A\n",
      "\u001b[A\n",
      "\u001b[A\n",
      "\u001b[A\n",
      "\u001b[A\n",
      "\u001b[A\n",
      "\u001b[A\n",
      "\u001b[A\n",
      "\u001b[A\n",
      "\u001b[A\n",
      "\u001b[A\n",
      "\u001b[A\n",
      "\u001b[A\n",
      "\u001b[A\n",
      "\u001b[A\n",
      "\u001b[A\n",
      "Running vectorized MCMC with 1 chains: 100%|██████████| 1010/1010 [00:08<00:00, 122.93it/s]\n"
     ]
    },
    {
     "name": "stdout",
     "output_type": "stream",
     "text": [
      "[[-1.4185967 -1.3674268]]\n",
      "1\n",
      "slice_np_vectorized\n"
     ]
    },
    {
     "name": "stderr",
     "output_type": "stream",
     "text": [
      "\n",
      "\u001b[A\n",
      "\u001b[A\n",
      "\u001b[A\n",
      "\u001b[A\n",
      "\u001b[A\n",
      "\u001b[A\n",
      "\u001b[A\n",
      "\u001b[A\n",
      "\u001b[A\n",
      "\u001b[A\n",
      "\u001b[A\n",
      "\u001b[A\n",
      "\u001b[A\n",
      "\u001b[A\n",
      "\u001b[A\n",
      "\u001b[A\n",
      "\u001b[A\n",
      "\u001b[A\n",
      "\u001b[A\n",
      "\u001b[A\n",
      "\u001b[A\n",
      "\u001b[A\n",
      "\u001b[A\n",
      "\u001b[A\n",
      "\u001b[A\n",
      "\u001b[A\n",
      "\u001b[A\n",
      "\u001b[A\n",
      "\u001b[A\n",
      "\u001b[A\n",
      "\u001b[A\n",
      "\u001b[A\n",
      "\u001b[A\n",
      "\u001b[A\n",
      "\u001b[A\n",
      "\u001b[A\n",
      "\u001b[A\n",
      "\u001b[A\n",
      "\u001b[A\n",
      "\u001b[A\n",
      "\u001b[A\n",
      "\u001b[A\n",
      "\u001b[A\n",
      "\u001b[A\n",
      "\u001b[A\n",
      "\u001b[A\n",
      "\u001b[A\n",
      "\u001b[A\n",
      "\u001b[A\n",
      "\u001b[A\n",
      "\u001b[A\n",
      "Running vectorized MCMC with 1 chains: 100%|██████████| 1010/1010 [00:07<00:00, 135.56it/s]\n"
     ]
    },
    {
     "name": "stdout",
     "output_type": "stream",
     "text": [
      "[[-1.1320462 -0.5465023]]\n",
      "2\n",
      "slice_np_vectorized\n"
     ]
    },
    {
     "name": "stderr",
     "output_type": "stream",
     "text": [
      "\n",
      "\u001b[A\n",
      "\u001b[A\n",
      "\u001b[A\n",
      "\u001b[A\n",
      "\u001b[A\n",
      "\u001b[A\n",
      "\u001b[A\n",
      "\u001b[A\n",
      "\u001b[A\n",
      "\u001b[A\n",
      "\u001b[A\n",
      "\u001b[A\n",
      "\u001b[A\n",
      "\u001b[A\n",
      "\u001b[A\n",
      "\u001b[A\n",
      "\u001b[A\n",
      "\u001b[A\n",
      "\u001b[A\n",
      "\u001b[A\n",
      "\u001b[A\n",
      "\u001b[A\n",
      "\u001b[A\n",
      "\u001b[A\n",
      "\u001b[A\n",
      "\u001b[A\n",
      "\u001b[A\n",
      "\u001b[A\n",
      "\u001b[A\n",
      "\u001b[A\n",
      "\u001b[A\n",
      "\u001b[A\n",
      "\u001b[A\n",
      "\u001b[A\n",
      "\u001b[A\n",
      "\u001b[A\n",
      "\u001b[A\n",
      "\u001b[A\n",
      "\u001b[A\n",
      "\u001b[A\n",
      "\u001b[A\n",
      "\u001b[A\n",
      "\u001b[A\n",
      "\u001b[A\n",
      "\u001b[A\n",
      "\u001b[A\n",
      "\u001b[A\n",
      "\u001b[A\n",
      "\u001b[A\n",
      "\u001b[A\n",
      "\u001b[A\n",
      "Running vectorized MCMC with 1 chains: 100%|██████████| 1010/1010 [00:07<00:00, 128.57it/s]\n"
     ]
    },
    {
     "name": "stdout",
     "output_type": "stream",
     "text": [
      "[[ 0.2381862  -0.74303716]]\n",
      "3\n",
      "slice_np_vectorized\n"
     ]
    },
    {
     "name": "stderr",
     "output_type": "stream",
     "text": [
      "\n",
      "\u001b[A\n",
      "\u001b[A\n",
      "\u001b[A\n",
      "\u001b[A\n",
      "\u001b[A\n",
      "\u001b[A\n",
      "\u001b[A\n",
      "\u001b[A\n",
      "\u001b[A\n",
      "\u001b[A\n",
      "\u001b[A\n",
      "\u001b[A\n",
      "\u001b[A\n",
      "\u001b[A\n",
      "\u001b[A\n",
      "\u001b[A\n",
      "\u001b[A\n",
      "\u001b[A\n",
      "\u001b[A\n",
      "\u001b[A\n",
      "\u001b[A\n",
      "\u001b[A\n",
      "\u001b[A\n",
      "\u001b[A\n",
      "\u001b[A\n",
      "\u001b[A\n",
      "\u001b[A\n",
      "\u001b[A\n",
      "\u001b[A\n",
      "\u001b[A\n",
      "\u001b[A\n",
      "\u001b[A\n",
      "\u001b[A\n",
      "\u001b[A\n",
      "\u001b[A\n",
      "\u001b[A\n",
      "\u001b[A\n",
      "\u001b[A\n",
      "\u001b[A\n",
      "\u001b[A\n",
      "\u001b[A\n",
      "\u001b[A\n",
      "\u001b[A\n",
      "\u001b[A\n",
      "\u001b[A\n",
      "\u001b[A\n",
      "\u001b[A\n",
      "\u001b[A\n",
      "\u001b[A\n",
      "\u001b[A\n",
      "\u001b[A\n",
      "Running vectorized MCMC with 1 chains: 100%|██████████| 1010/1010 [00:07<00:00, 127.92it/s]\n"
     ]
    },
    {
     "name": "stdout",
     "output_type": "stream",
     "text": [
      "[[ 0.9467475 -1.3100317]]\n",
      "4\n",
      "slice_np_vectorized\n"
     ]
    },
    {
     "name": "stderr",
     "output_type": "stream",
     "text": [
      "\n",
      "\u001b[A\n",
      "\u001b[A\n",
      "\u001b[A\n",
      "\u001b[A\n",
      "\u001b[A\n",
      "\u001b[A\n",
      "\u001b[A\n",
      "\u001b[A\n",
      "\u001b[A\n",
      "\u001b[A\n",
      "\u001b[A\n",
      "\u001b[A\n",
      "\u001b[A\n",
      "\u001b[A\n",
      "\u001b[A\n",
      "\u001b[A\n",
      "\u001b[A\n",
      "\u001b[A\n",
      "\u001b[A\n",
      "\u001b[A\n",
      "\u001b[A\n",
      "\u001b[A\n",
      "\u001b[A\n",
      "\u001b[A\n",
      "\u001b[A\n",
      "\u001b[A\n",
      "\u001b[A\n",
      "\u001b[A\n",
      "\u001b[A\n",
      "\u001b[A\n",
      "\u001b[A\n",
      "\u001b[A\n",
      "\u001b[A\n",
      "\u001b[A\n",
      "\u001b[A\n",
      "\u001b[A\n",
      "\u001b[A\n",
      "\u001b[A\n",
      "\u001b[A\n",
      "\u001b[A\n",
      "\u001b[A\n",
      "\u001b[A\n",
      "\u001b[A\n",
      "\u001b[A\n",
      "\u001b[A\n",
      "\u001b[A\n",
      "\u001b[A\n",
      "\u001b[A\n",
      "\u001b[A\n",
      "\u001b[A\n",
      "\u001b[A\n",
      "Running vectorized MCMC with 1 chains: 100%|██████████| 1010/1010 [00:07<00:00, 131.08it/s]\n"
     ]
    },
    {
     "name": "stdout",
     "output_type": "stream",
     "text": [
      "[[0.7904472 0.9179436]]\n",
      "5\n",
      "slice_np_vectorized\n"
     ]
    },
    {
     "name": "stderr",
     "output_type": "stream",
     "text": [
      "\n",
      "\u001b[A\n",
      "\u001b[A\n",
      "\u001b[A\n",
      "\u001b[A\n",
      "\u001b[A\n",
      "\u001b[A\n",
      "\u001b[A\n",
      "\u001b[A\n",
      "\u001b[A\n",
      "\u001b[A\n",
      "\u001b[A\n",
      "\u001b[A\n",
      "\u001b[A\n",
      "\u001b[A\n",
      "\u001b[A\n",
      "\u001b[A\n",
      "\u001b[A\n",
      "\u001b[A\n",
      "\u001b[A\n",
      "\u001b[A\n",
      "\u001b[A\n",
      "\u001b[A\n",
      "\u001b[A\n",
      "\u001b[A\n",
      "\u001b[A\n",
      "\u001b[A\n",
      "\u001b[A\n",
      "\u001b[A\n",
      "\u001b[A\n",
      "\u001b[A\n",
      "\u001b[A\n",
      "\u001b[A\n",
      "\u001b[A\n",
      "\u001b[A\n",
      "\u001b[A\n",
      "\u001b[A\n",
      "\u001b[A\n",
      "\u001b[A\n",
      "\u001b[A\n",
      "\u001b[A\n",
      "\u001b[A\n",
      "\u001b[A\n",
      "\u001b[A\n",
      "\u001b[A\n",
      "\u001b[A\n",
      "\u001b[A\n",
      "\u001b[A\n",
      "\u001b[A\n",
      "\u001b[A\n",
      "\u001b[A\n",
      "\u001b[A\n",
      "Running vectorized MCMC with 1 chains: 100%|██████████| 1010/1010 [00:07<00:00, 127.72it/s]\n"
     ]
    },
    {
     "name": "stdout",
     "output_type": "stream",
     "text": [
      "[[-1.1198896  1.667559 ]]\n",
      "6\n",
      "slice_np_vectorized\n"
     ]
    },
    {
     "name": "stderr",
     "output_type": "stream",
     "text": [
      "\n",
      "\u001b[A\n",
      "\u001b[A\n",
      "\u001b[A\n",
      "\u001b[A\n",
      "\u001b[A\n",
      "\u001b[A\n",
      "\u001b[A\n",
      "\u001b[A\n",
      "\u001b[A\n",
      "\u001b[A\n",
      "\u001b[A\n",
      "\u001b[A\n",
      "\u001b[A\n",
      "\u001b[A\n",
      "\u001b[A\n",
      "\u001b[A\n",
      "\u001b[A\n",
      "\u001b[A\n",
      "\u001b[A\n",
      "\u001b[A\n",
      "\u001b[A\n",
      "\u001b[A\n",
      "\u001b[A\n",
      "\u001b[A\n",
      "\u001b[A\n",
      "\u001b[A\n",
      "\u001b[A\n",
      "\u001b[A\n",
      "\u001b[A\n",
      "\u001b[A\n",
      "\u001b[A\n",
      "\u001b[A\n",
      "\u001b[A\n",
      "\u001b[A\n",
      "\u001b[A\n",
      "\u001b[A\n",
      "\u001b[A\n",
      "\u001b[A\n",
      "\u001b[A\n",
      "\u001b[A\n",
      "\u001b[A\n",
      "\u001b[A\n",
      "\u001b[A\n",
      "\u001b[A\n",
      "\u001b[A\n",
      "\u001b[A\n",
      "\u001b[A\n",
      "\u001b[A\n",
      "\u001b[A\n",
      "\u001b[A\n",
      "\u001b[A\n",
      "Running vectorized MCMC with 1 chains: 100%|██████████| 1010/1010 [00:08<00:00, 119.55it/s]\n"
     ]
    },
    {
     "name": "stdout",
     "output_type": "stream",
     "text": [
      "[[1.6188387 0.6344463]]\n",
      "7\n",
      "slice_np_vectorized\n"
     ]
    },
    {
     "name": "stderr",
     "output_type": "stream",
     "text": [
      "\n",
      "\u001b[A\n",
      "\u001b[A\n",
      "\u001b[A\n",
      "\u001b[A\n",
      "\u001b[A\n",
      "\u001b[A\n",
      "\u001b[A\n",
      "\u001b[A\n",
      "\u001b[A\n",
      "\u001b[A\n",
      "\u001b[A\n",
      "\u001b[A\n",
      "\u001b[A\n",
      "\u001b[A\n",
      "\u001b[A\n",
      "\u001b[A\n",
      "\u001b[A\n",
      "\u001b[A\n",
      "\u001b[A\n",
      "\u001b[A\n",
      "\u001b[A\n",
      "\u001b[A\n",
      "\u001b[A\n",
      "\u001b[A\n",
      "\u001b[A\n",
      "\u001b[A\n",
      "\u001b[A\n",
      "\u001b[A\n",
      "\u001b[A\n",
      "\u001b[A\n",
      "\u001b[A\n",
      "\u001b[A\n",
      "\u001b[A\n",
      "\u001b[A\n",
      "\u001b[A\n",
      "\u001b[A\n",
      "\u001b[A\n",
      "\u001b[A\n",
      "\u001b[A\n",
      "\u001b[A\n",
      "\u001b[A\n",
      "\u001b[A\n",
      "\u001b[A\n",
      "\u001b[A\n",
      "\u001b[A\n",
      "\u001b[A\n",
      "\u001b[A\n",
      "\u001b[A\n",
      "\u001b[A\n",
      "\u001b[A\n",
      "\u001b[A\n",
      "Running vectorized MCMC with 1 chains: 100%|██████████| 1010/1010 [00:08<00:00, 123.49it/s]\n"
     ]
    },
    {
     "name": "stdout",
     "output_type": "stream",
     "text": [
      "[[1.6987255 1.5597256]]\n",
      "8\n",
      "slice_np_vectorized\n"
     ]
    },
    {
     "name": "stderr",
     "output_type": "stream",
     "text": [
      "\n",
      "\u001b[A\n",
      "\u001b[A\n",
      "\u001b[A\n",
      "\u001b[A\n",
      "\u001b[A\n",
      "\u001b[A\n",
      "\u001b[A\n",
      "\u001b[A\n",
      "\u001b[A\n",
      "\u001b[A\n",
      "\u001b[A\n",
      "\u001b[A\n",
      "\u001b[A\n",
      "\u001b[A\n",
      "\u001b[A\n",
      "\u001b[A\n",
      "\u001b[A\n",
      "\u001b[A\n",
      "\u001b[A\n",
      "\u001b[A\n",
      "\u001b[A\n",
      "\u001b[A\n",
      "\u001b[A\n",
      "\u001b[A\n",
      "\u001b[A\n",
      "\u001b[A\n",
      "\u001b[A\n",
      "\u001b[A\n",
      "\u001b[A\n",
      "\u001b[A\n",
      "\u001b[A\n",
      "\u001b[A\n",
      "\u001b[A\n",
      "\u001b[A\n",
      "\u001b[A\n",
      "\u001b[A\n",
      "\u001b[A\n",
      "\u001b[A\n",
      "\u001b[A\n",
      "\u001b[A\n",
      "\u001b[A\n",
      "\u001b[A\n",
      "\u001b[A\n",
      "\u001b[A\n",
      "\u001b[A\n",
      "\u001b[A\n",
      "\u001b[A\n",
      "\u001b[A\n",
      "\u001b[A\n",
      "\u001b[A\n",
      "\u001b[A\n",
      "Running vectorized MCMC with 1 chains: 100%|██████████| 1010/1010 [00:08<00:00, 121.92it/s]\n"
     ]
    },
    {
     "name": "stdout",
     "output_type": "stream",
     "text": [
      "[[ 0.48131996 -1.6596203 ]]\n",
      "9\n",
      "slice_np_vectorized\n"
     ]
    },
    {
     "name": "stderr",
     "output_type": "stream",
     "text": [
      "\n",
      "\u001b[A\n",
      "\u001b[A\n",
      "\u001b[A\n",
      "\u001b[A\n",
      "\u001b[A\n",
      "\u001b[A\n",
      "\u001b[A\n",
      "\u001b[A\n",
      "\u001b[A\n",
      "\u001b[A\n",
      "\u001b[A\n",
      "\u001b[A\n",
      "\u001b[A\n",
      "\u001b[A\n",
      "\u001b[A\n",
      "\u001b[A\n",
      "\u001b[A\n",
      "\u001b[A\n",
      "\u001b[A\n",
      "\u001b[A\n",
      "\u001b[A\n",
      "\u001b[A\n",
      "\u001b[A\n",
      "\u001b[A\n",
      "\u001b[A\n",
      "\u001b[A\n",
      "\u001b[A\n",
      "\u001b[A\n",
      "\u001b[A\n",
      "\u001b[A\n",
      "\u001b[A\n",
      "\u001b[A\n",
      "\u001b[A\n",
      "\u001b[A\n",
      "\u001b[A\n",
      "\u001b[A\n",
      "\u001b[A\n",
      "\u001b[A\n",
      "\u001b[A\n",
      "\u001b[A\n",
      "\u001b[A\n",
      "\u001b[A\n",
      "\u001b[A\n",
      "\u001b[A\n",
      "\u001b[A\n",
      "\u001b[A\n",
      "\u001b[A\n",
      "\u001b[A\n",
      "\u001b[A\n",
      "\u001b[A\n",
      "\u001b[A\n",
      "Running vectorized MCMC with 1 chains: 100%|██████████| 1010/1010 [00:08<00:00, 124.99it/s]"
     ]
    },
    {
     "name": "stdout",
     "output_type": "stream",
     "text": [
      "[[ 0.6306736  -0.78303987]]\n"
     ]
    },
    {
     "name": "stderr",
     "output_type": "stream",
     "text": [
      "\n"
     ]
    }
   ],
   "source": [
    "isim_obs_array = np.arange(1800, 1810)  \n",
    "# isim_obs_array = np.arange(1800, 1900)  \n",
    "# isim_obs_array = np.arange(1000, 1020)  \n",
    "# isim_obs_array = np.arange(600, 630)\n",
    "# isim_obs_array = np.arange(430, 460)\n",
    "# isim_obs_array = np.arange(900, 925)\n",
    "\n",
    "Om_true_all = np.zeros(len(isim_obs_array))\n",
    "Om_mock_all_mean = np.zeros(len(isim_obs_array))\n",
    "Om_mock_all_std = np.zeros(len(isim_obs_array))\n",
    "\n",
    "sig8_true_all = np.zeros(len(isim_obs_array))\n",
    "sig8_mock_all_mean = np.zeros(len(isim_obs_array))\n",
    "sig8_mock_all_std = np.zeros(len(isim_obs_array))\n",
    "\n",
    "samples_all_isims = np.zeros((len(isim_obs_array), 1000, len(indsel_p)))\n",
    "true_all_isims = np.zeros((len(isim_obs_array), len(indsel_p)))\n",
    "\n",
    "for ji in range(len(isim_obs_array)):\n",
    "    print(ji)\n",
    "    isim_obs = isim_obs_array[ji]\n",
    "\n",
    "    # saved_j = pk.load(open(ldir_stats + '/saved_stats_halos_' + str(isim_obs) + '_CMASS.pk', 'rb'))\n",
    "    # x_obs = saved_j['summary_concat_truth_all'][None,:]\n",
    "        \n",
    "    # saved_j = pk.load(open(ldir_stats + '/saved_stats_halos/_with_MASS_WEIGHTED_' + str(isim_obs) + '_CMASS.pk', 'rb'))    \n",
    "    saved_j = pk.load(open(ldir_stats + '/summary_stats_weighted_rsd_' + str(isim_obs) + '_nbar_4en4.pk', 'rb'))    \n",
    "    # saved_j = pk.load(open(ldir_stats + '/summary_stats_weighted_rsd_' + str(isim_obs) + '_lgMmin_13p0.pk', 'rb'))    \n",
    "\n",
    "    # Pk_mock_ds = saved_j[pos + '_Pk_mock_weighted'][:,:2]\n",
    "    # Pk_truth_ds = saved_j[pos + '_Pk_truth_weighted'][:,:2]\n",
    "\n",
    "    # Pk_mock_ds = saved_j[pos + '_Pk_mock_weighted'][:,:1][:,None]\n",
    "    # Pk_truth_ds = saved_j[pos + '_Pk_truth_weighted'][:,:1][:,None]\n",
    "\n",
    "    Pk_mock_ds = saved_j[pos + '_Pk_mock_weighted'][:,:2].T\n",
    "    Pk_truth_ds = saved_j[pos + '_Pk_truth_weighted'][:,:2].T\n",
    "\n",
    "    Bk_truth_k0p06 = saved_j[pos + '_Bk_truth_k0p06_weighted'][1:-1]\n",
    "    Bk_mock_k0p06 = saved_j[pos + '_Bk_mock_k0p06_weighted'][1:-1]\n",
    "\n",
    "    Bk_truth_k0p2 = saved_j[pos + '_Bk_truth_k0p2_weighted'][1:-1]\n",
    "    Bk_mock_k0p2 = saved_j[pos + '_Bk_mock_k0p2_weighted'][1:-1]\n",
    "\n",
    "    Bk_truth_k0p3 = saved_j[pos + '_Bk_truth_k0p3_weighted'][1:-1]\n",
    "    Bk_mock_k0p3 = saved_j[pos + '_Bk_mock_k0p3_weighted'][1:-1]\n",
    "\n",
    "    s0_mock = saved_j[pos + '_s0_mock_weighted']\n",
    "    s0_truth = saved_j[pos + 's0_truth_weighted']\n",
    "\n",
    "    s1_mock = saved_j[pos + '_s1_mock_weighted']\n",
    "    s1_truth = saved_j[pos + 's1_truth_weighted']\n",
    "\n",
    "    s2_mock = saved_j[pos + '_s2_mock_weighted']\n",
    "    s2_truth = saved_j[pos + 's2_truth_weighted']  \n",
    "\n",
    "    # x_obs = saved_j[pos + '_summary_concat_truth_all_weighted'][None,:]            \n",
    "    # x_obs = saved_j[pos + '_summary_concat_mock_all_weighted'][None,:]                \n",
    "\n",
    "    x_obs = np.concatenate((Pk_truth_ds.flatten(), Bk_truth_k0p06, Bk_truth_k0p2, Bk_truth_k0p3, s1_truth[::4], s2_truth[::6]))\n",
    "    # x_obs = np.concatenate((Pk_mock_ds.flatten(), Bk_mock_k0p06, Bk_mock_k0p2, Bk_mock_k0p3, s1_mock[::4], s2_mock[::6]))\n",
    "    # x_obs = np.concatenate((Pk_mock_ds.flatten(), s1_mock[::4], s2_mock[::6]))\n",
    "    # x_obs = np.concatenate((Pk_truth_ds.flatten(), s1_truth[::4], s2_truth[::6]))    \n",
    "    # x_obs = Pk_truth_ds.flatten()\n",
    "\n",
    "\n",
    "    # x_obs = saved_j[pos + '_Pk_truth_weighted'].flatten()[None,:]                \n",
    "    theta_obs = saved_j['cosmo'][None,indsel_p]\n",
    "\n",
    "    x_obs = torch.tensor((x_obs - x_all_mean)/x_all_std).float()\n",
    "    # x_obs = torch.tensor((x_obs)/x_all_std).float()    \n",
    "    theta_obs = torch.tensor((theta_obs  - theta_all_mean)/theta_all_std).float()\n",
    "\n",
    "    samples = posterior.set_default_x(x_obs).sample((1000,))\n",
    "\n",
    "    samples_all = samples.cpu().numpy()\n",
    "\n",
    "    samples_all_isims[ji] = samples_all\n",
    "    true_all_isims[ji] = theta_obs.cpu().numpy()\n",
    "    print(theta_obs.cpu().numpy())\n",
    "\n",
    "    theta_obs_transformed = ((theta_obs.cpu().numpy() * theta_all_std) + theta_all_mean)\n",
    "    Om_true_all[ji] = theta_obs_transformed[0,0]\n",
    "    # sig8_true_all[ji] = theta_obs_transformed[0,4]\n",
    "    sig8_true_all[ji] = theta_obs_transformed[0,1]\n",
    "\n",
    "\n",
    "    # samples_all_transformed = ((samples_all * theta_all_std) + theta_all_mean)\n",
    "    samples_all_transformed = ((samples_all * theta_all_std) + theta_all_mean)\n",
    "\n",
    "    Om_mock_all_mean[ji] = np.mean(samples_all_transformed[:,0])\n",
    "    Om_mock_all_std[ji] = np.std(samples_all_transformed[:,0])\n",
    "\n",
    "    # sig8_mock_all_mean[ji] = np.mean(samples_all_transformed[:,4])\n",
    "    # sig8_mock_all_std[ji] = np.std(samples_all_transformed[:,4])\n",
    "\n",
    "    sig8_mock_all_mean[ji] = np.mean(samples_all_transformed[:,1])\n",
    "    sig8_mock_all_std[ji] = np.std(samples_all_transformed[:,1])\n",
    "\n",
    "\n"
   ]
  },
  {
   "cell_type": "code",
   "execution_count": 32,
   "metadata": {},
   "outputs": [],
   "source": [
    "# true_all_isims\n"
   ]
  },
  {
   "cell_type": "code",
   "execution_count": 29,
   "metadata": {},
   "outputs": [
    {
     "data": {
      "text/plain": [
       "array([0.1330295 , 0.21804205, 0.30429334, 0.34917194, 0.39183351,\n",
       "       0.19364763, 0.        , 0.        , 0.        , 0.        ])"
      ]
     },
     "execution_count": 29,
     "metadata": {},
     "output_type": "execute_result"
    }
   ],
   "source": [
    "Om_mock_all_mean\n"
   ]
  },
  {
   "cell_type": "code",
   "execution_count": 34,
   "metadata": {},
   "outputs": [
    {
     "data": {
      "text/plain": [
       "array([[0., 0.],\n",
       "       [0., 0.],\n",
       "       [0., 0.],\n",
       "       [0., 0.],\n",
       "       [0., 0.],\n",
       "       [0., 0.],\n",
       "       [0., 0.],\n",
       "       [0., 0.],\n",
       "       [0., 0.],\n",
       "       [0., 0.]])"
      ]
     },
     "execution_count": 34,
     "metadata": {},
     "output_type": "execute_result"
    },
    {
     "name": "stderr",
     "output_type": "stream",
     "text": []
    }
   ],
   "source": [
    "# theta_obs.shape\n",
    "true_all_isims\n",
    "# samples_all_isims[23,:]\n"
   ]
  },
  {
   "cell_type": "code",
   "execution_count": 24,
   "metadata": {},
   "outputs": [
    {
     "name": "stderr",
     "output_type": "stream",
     "text": [
      "100%|██████████| 20/20 [00:00<00:00, 1041.69it/s]\n"
     ]
    }
   ],
   "source": [
    "import tarp\n",
    "references = \"random\"\n",
    "metric = 'euclidean'\n",
    "bootstrap= True\n",
    "norm = True\n",
    "num_alpha_bins = None\n",
    "num_bootstrap = 20\n",
    "\n",
    "# samples_all_tarp = np.moveaxis(samples_all_isims, 0, 1)[:,:71, :]\n",
    "# true_all_tarp = true_all_isims[:71,...]\n",
    "\n",
    "samples_all_tarp = np.moveaxis(samples_all_isims, 0, 1)\n",
    "true_all_tarp = true_all_isims\n",
    "\n",
    "ecp, alpha = tarp.get_tarp_coverage(\n",
    "            samples_all_tarp, true_all_tarp,\n",
    "            references=references, metric=metric,\n",
    "            norm=norm, bootstrap=bootstrap,\n",
    "            num_alpha_bins=num_alpha_bins,\n",
    "            num_bootstrap=num_bootstrap\n",
    "        )\n",
    "\n",
    "\n",
    "\n"
   ]
  },
  {
   "cell_type": "code",
   "execution_count": 25,
   "metadata": {},
   "outputs": [
    {
     "data": {
      "text/plain": [
       "Text(0.5, 0, 'Credibility Level')"
      ]
     },
     "execution_count": 25,
     "metadata": {},
     "output_type": "execute_result"
    },
    {
     "data": {
      "image/png": "[encoded data removed]",
      "text/plain": [
       "<Figure size 500x400 with 1 Axes>"
      ]
     },
     "metadata": {},
     "output_type": "display_data"
    }
   ],
   "source": [
    "fig, ax = plt.subplots(1, 1, figsize=(5, 4))\n",
    "ax.plot([0, 1], [0, 1], ls='--', color='k')\n",
    "if bootstrap:\n",
    "    ecp_mean = np.mean(ecp, axis=0)\n",
    "    ecp_std = np.std(ecp, axis=0)\n",
    "    ax.plot(alpha, ecp_mean, label='TARP', color='b')\n",
    "    ax.fill_between(alpha, ecp_mean - ecp_std, ecp_mean + ecp_std,\n",
    "                    alpha=0.2, color='b')\n",
    "    ax.fill_between(alpha, ecp_mean - 2 * ecp_std, ecp_mean + 2 * ecp_std,\n",
    "                    alpha=0.2, color='b')\n",
    "else:\n",
    "    ax.plot(alpha, ecp, label='TARP')\n",
    "# ax.legend()\n",
    "pl.tick_params(axis='both', which='major', labelsize=15)\n",
    "pl.tick_params(axis='both', which='minor', labelsize=15)\n",
    "ax.set_ylabel(\"Expected Coverage\", size=15)\n",
    "ax.set_xlabel(\"Credibility Level\", size=15)\n",
    "# pl.savefig('/mnt/home/spandey/ceph/AR_NPE/notebooks/CMASS_TEST/run_inference_scripts/results/TARP_coverage.pdf', bbox_inches='tight')\n"
   ]
  },
  {
   "cell_type": "code",
   "execution_count": 26,
   "metadata": {},
   "outputs": [
    {
     "data": {
      "text/plain": [
       "Text(0, 0.5, '$\\\\Omega_m$ inferred')"
      ]
     },
     "execution_count": 26,
     "metadata": {},
     "output_type": "execute_result"
    },
    {
     "data": {
      "image/png": "[encoded data removed]",
      "text/plain": [
       "<Figure size 640x480 with 1 Axes>"
      ]
     },
     "metadata": {},
     "output_type": "display_data"
    }
   ],
   "source": [
    "# samples_all_tarp.shape, true_all_tarp.shape\n",
    "# true_all_tarp_repeat = np.tile(true_all_tarp, (1000, 1, 1))\n",
    "\n",
    "samples_all_transformed = ((samples_all_tarp * theta_all_std) + theta_all_mean)\n",
    "true_all_transformed = ((true_all_tarp * theta_all_std) + theta_all_mean)\n",
    "samples_all_tarp_mean = np.mean(samples_all_transformed, axis = 0)\n",
    "samples_all_tarp_std = np.std(samples_all_transformed, axis = 0)\n",
    "\n",
    "pl.figure()\n",
    "pl.errorbar(true_all_transformed[:,0], samples_all_tarp_mean[:,0], yerr = samples_all_tarp_std[:,0], fmt = 'o')\n",
    "pl.plot([0.1, 0.5], [0.1, 0.5], 'k--')\n",
    "pl.tick_params(axis='both', which='major', labelsize=15)\n",
    "pl.tick_params(axis='both', which='minor', labelsize=15)\n",
    "\n",
    "\n",
    "pl.xlabel(r'$\\Omega_m$ true', size=15)\n",
    "pl.ylabel(r'$\\Omega_m$ inferred', size=15)\n",
    "\n",
    "\n",
    "\n"
   ]
  },
  {
   "cell_type": "code",
   "execution_count": 27,
   "metadata": {},
   "outputs": [],
   "source": [
    "# true_all_transformed\n",
    "# true_all_tarp"
   ]
  },
  {
   "cell_type": "code",
   "execution_count": 28,
   "metadata": {},
   "outputs": [
    {
     "data": {
      "text/plain": [
       "Text(0, 0.5, '$\\\\sigma_8$ inferred')"
      ]
     },
     "execution_count": 28,
     "metadata": {},
     "output_type": "execute_result"
    },
    {
     "data": {
      "image/png": "[encoded data removed]",
      "text/plain": [
       "<Figure size 640x480 with 1 Axes>"
      ]
     },
     "metadata": {},
     "output_type": "display_data"
    },
    {
     "name": "stderr",
     "output_type": "stream",
     "text": [
      "Running vectorized MCMC with 1 chains:  10%|▉         | 100/1010 [00:18<00:09, 91.07it/s]"
     ]
    }
   ],
   "source": [
    "pl.figure()\n",
    "pl.errorbar(true_all_transformed[:,-1], samples_all_tarp_mean[:,-1], yerr = samples_all_tarp_std[:,-1], fmt = 'o')\n",
    "pl.plot([0.55, 1.05], [0.55, 1.05], 'k--')\n",
    "pl.xlabel(r'$\\sigma_8$ true', size=15)\n",
    "pl.ylabel(r'$\\sigma_8$ inferred', size=15)\n",
    "\n",
    "\n"
   ]
  },
  {
   "cell_type": "code",
   "execution_count": null,
   "metadata": {},
   "outputs": [],
   "source": []
  },
  {
   "cell_type": "code",
   "execution_count": 249,
   "metadata": {},
   "outputs": [],
   "source": [
    "sdir_cosmo = '/mnt/home/spandey/ceph/Quijote/data_NGP_self_LH'\n",
    "jsim = 0\n",
    "mass_type = 'rockstar200c'\n",
    "lgMmincutstr = '5e12'\n",
    "nside_h = 128\n",
    "z_inference = '0.5'\n",
    "fname = sdir_cosmo + '/' + str(jsim) + '/SPARSEMATS_halos_HR_rockstar_200c_lgMmincut_5e12_subvol_res_128_z=0.5.pk'\n",
    "\n",
    "\n",
    "df_h = pk.load(open(fname, 'rb'))\n",
    "\n"
   ]
  },
  {
   "cell_type": "code",
   "execution_count": 250,
   "metadata": {},
   "outputs": [],
   "source": [
    "vel_type='diff'\n",
    "df_Mh_all, df_Nh_all, df_v_all = df_h['M_halos'], df_h['N_halos'], df_h[f'v_halos_{vel_type}']\n",
    "\n"
   ]
  },
  {
   "cell_type": "code",
   "execution_count": 262,
   "metadata": {},
   "outputs": [
    {
     "data": {
      "text/plain": [
       "14.9889554977417"
      ]
     },
     "execution_count": 262,
     "metadata": {},
     "output_type": "execute_result"
    }
   ],
   "source": [
    "np.amax(df_Mh_all.todense())\n"
   ]
  },
  {
   "cell_type": "code",
   "execution_count": 24,
   "metadata": {},
   "outputs": [],
   "source": [
    "import pickle as pk\n",
    "ldir = '/mnt/home/spandey/ceph/CHARM/results/'\n",
    "# /mnt/home/spandey/ceph/CHARM/results/saved_nsubv_vel10k_tarp_real_Pk_mono_SNRE_data_mock.pk\n",
    "# fname = ldir + 'saved_tarp_real_Pk_mono_SNRE_data_truth.pk'\n",
    "# fname = ldir + 'saved_tarp_rsd_Pk_mono_SNRE_data_truth.pk'\n",
    "# fname = ldir + 'saved_tarp_rsd_Pk_quad_SNRE_data_truth.pk'\n",
    "# fname = ldir + 'saved_tarp_rsd_Pk_all_SNRE_data_truth.pk'\n",
    "\n",
    "fname = ldir + 'saved_nsubv_vel10k_tarp_rsd_Pk_all_SNRE_data_mock.pk'\n",
    "# fname = ldir + 'saved_nsubv_vel10k_tarp_rsd_Pk_quad_SNRE_data_mock.pk'\n",
    "# fname = ldir + 'saved_nsubv_vel10k_tarp_real_Pk_mono_SNRE_data_mock.pk'\n",
    "df = pk.load(open(fname, 'rb'))\n",
    "\n",
    "\n"
   ]
  },
  {
   "cell_type": "code",
   "execution_count": 25,
   "metadata": {},
   "outputs": [],
   "source": [
    "samples_all_tarp = df['samples_all_tarp']\n",
    "true_all_tarp = df['true_all_tarp']\n",
    "samples_all_transformed = df['samples_all_transformed']\n",
    "true_all_transformed = df['true_all_transformed']\n",
    "samples_all_tarp_mean = df['samples_all_tarp_mean']\n",
    "samples_all_tarp_std = df['samples_all_tarp_std']\n",
    "\n",
    "\n"
   ]
  },
  {
   "cell_type": "code",
   "execution_count": 26,
   "metadata": {},
   "outputs": [],
   "source": [
    "Om_min = 0.13\n",
    "Om_max = 0.47\n",
    "sig8_min = 0.63\n",
    "sig8_max = 0.97\n",
    "\n",
    "# Om_min = 0.11\n",
    "# Om_max = 0.49\n",
    "# sig8_min = 0.61\n",
    "# sig8_max = 0.99\n",
    "\n",
    "\n",
    "indsel = np.where((true_all_transformed[:,0] > Om_min) & (true_all_transformed[:,0] < Om_max) & (true_all_transformed[:,1] > sig8_min) & (true_all_transformed[:,1] < sig8_max))[0] \n",
    "\n",
    "\n"
   ]
  },
  {
   "cell_type": "code",
   "execution_count": 31,
   "metadata": {},
   "outputs": [
    {
     "name": "stderr",
     "output_type": "stream",
     "text": [
      "100%|██████████| 20/20 [00:00<00:00, 179.93it/s]\n"
     ]
    }
   ],
   "source": [
    "# import tarp\n",
    "import sys, os\n",
    "sys.path.append('/mnt/home/spandey/ceph/tarp/src/tarp')\n",
    "import drp\n",
    "references = \"random\"\n",
    "metric = 'euclidean'\n",
    "bootstrap= True\n",
    "norm = True\n",
    "num_alpha_bins = None\n",
    "num_bootstrap = 20\n",
    "\n",
    "\n",
    "ecp, alpha = drp.get_tarp_coverage(\n",
    "            samples_all_tarp[:,indsel, :], true_all_tarp[indsel,:],\n",
    "            references=references, metric=metric,\n",
    "            norm=norm, bootstrap=bootstrap,\n",
    "            num_alpha_bins=num_alpha_bins,\n",
    "            num_bootstrap=num_bootstrap\n",
    "        )\n",
    "        \n",
    "\n"
   ]
  },
  {
   "cell_type": "code",
   "execution_count": 32,
   "metadata": {},
   "outputs": [
    {
     "data": {
      "text/plain": [
       "Text(0.5, 0.98, 'Train:CHARM, Test:Quijote; Real space; P + B + Wavelets; SNRE')"
      ]
     },
     "execution_count": 32,
     "metadata": {},
     "output_type": "execute_result"
    },
    {
     "data": {
      "image/png": "[encoded data removed]",
      "text/plain": [
       "<Figure size 1500x400 with 3 Axes>"
      ]
     },
     "metadata": {},
     "output_type": "display_data"
    }
   ],
   "source": [
    "# pl.figure()\n",
    "# pl.errorbar(true_all_transformed[:,-1], samples_all_tarp_mean[:,-1], yerr = samples_all_tarp_std[:,-1], fmt = 'o')\n",
    "# pl.plot([0.55, 1.05], [0.55, 1.05], 'k--')\n",
    "# pl.xlabel(r'$\\sigma_8$ true', size=15)\n",
    "# pl.ylabel(r'$\\sigma_8$ inferred', size=15)\n",
    "\n",
    "# two pane figure: Om and sig8\n",
    "fig, ax = pl.subplots(1, 3, figsize=(15, 4))\n",
    "ax[0].errorbar(true_all_transformed[indsel,0], samples_all_tarp_mean[indsel,0], yerr = samples_all_tarp_std[indsel,0], fmt = 'o')\n",
    "ax[0].plot([Om_min, Om_max], [Om_min, Om_max], 'k--')\n",
    "ax[0].tick_params(axis='both', which='major', labelsize=15)\n",
    "ax[0].tick_params(axis='both', which='minor', labelsize=15)\n",
    "ax[0].set_xlabel(r'$\\Omega_m$ true', size=15)\n",
    "ax[0].set_ylabel(r'$\\Omega_m$ inferred', size=15)\n",
    "\n",
    "ax[1].errorbar(true_all_transformed[indsel,-1], samples_all_tarp_mean[indsel,-1], yerr = samples_all_tarp_std[indsel,-1], fmt = 'o')\n",
    "ax[1].plot([sig8_min, sig8_max], [sig8_min, sig8_max], 'k--')\n",
    "ax[1].set_xlabel(r'$\\sigma_8$ true', size=15)\n",
    "ax[1].set_ylabel(r'$\\sigma_8$ inferred', size=15)\n",
    "ax[1].tick_params(axis='both', which='major', labelsize=15)\n",
    "ax[1].tick_params(axis='both', which='minor', labelsize=15)\n",
    "\n",
    "ax = ax[2]\n",
    "ax.plot([0, 1], [0, 1], ls='--', color='k')\n",
    "if bootstrap:\n",
    "    ecp_mean = np.mean(ecp, axis=0)\n",
    "    ecp_std = np.std(ecp, axis=0)\n",
    "    ax.plot(alpha, ecp_mean, label='TARP', color='b')\n",
    "    ax.fill_between(alpha, ecp_mean - ecp_std, ecp_mean + ecp_std,\n",
    "                    alpha=0.2, color='b')\n",
    "    ax.fill_between(alpha, ecp_mean - 2 * ecp_std, ecp_mean + 2 * ecp_std,\n",
    "                    alpha=0.2, color='b')\n",
    "else:\n",
    "    ax.plot(alpha, ecp, label='TARP')\n",
    "# ax.legend()\n",
    "pl.tick_params(axis='both', which='major', labelsize=15)\n",
    "pl.tick_params(axis='both', which='minor', labelsize=15)\n",
    "ax.set_ylabel(\"Expected Coverage\", size=15)\n",
    "ax.set_xlabel(\"Credibility Level\", size=15)\n",
    "\n",
    "pl.suptitle(r'Train:CHARM, Test:Quijote; Real space; P + B + Wavelets; SNRE', size=17)\n",
    "# pl.suptitle(r'Train:CHARM, Test:Quijote; Redshift space; $P_{\\ell = 0}$ + B + Wavelets; SNRE', size=17)\n",
    "# pl.suptitle(r'Train:CHARM, Test:Quijote; Redshift space; $P_{\\ell = 0}$ + $P_{\\ell = 1}$ + B + Wavelets; SNRE', size=17)\n",
    "# pl.suptitle(r'Train:CHARM, Test:Quijote; Redshift space; $P_{\\ell = 0}$ + $P_{\\ell = 1}$ + $P_{\\ell = 2}$ + B + Wavelets; SNRE', size=17)\n",
    "\n",
    "\n"
   ]
  },
  {
   "cell_type": "code",
   "execution_count": null,
   "metadata": {},
   "outputs": [],
   "source": []
  },
  {
   "cell_type": "code",
   "execution_count": null,
   "metadata": {},
   "outputs": [],
   "source": []
  },
  {
   "cell_type": "code",
   "execution_count": null,
   "metadata": {},
   "outputs": [],
   "source": []
  },
  {
   "cell_type": "code",
   "execution_count": null,
   "metadata": {},
   "outputs": [],
   "source": []
  },
  {
   "cell_type": "code",
   "execution_count": null,
   "metadata": {},
   "outputs": [],
   "source": []
  },
  {
   "cell_type": "code",
   "execution_count": null,
   "metadata": {},
   "outputs": [],
   "source": []
  },
  {
   "cell_type": "code",
   "execution_count": null,
   "metadata": {},
   "outputs": [],
   "source": []
  },
  {
   "cell_type": "code",
   "execution_count": null,
   "metadata": {},
   "outputs": [],
   "source": []
  }
 ],
 "metadata": {
  "kernelspec": {
   "display_name": "ili-sbi",
   "language": "python",
   "name": "python3"
  },
  "language_info": {
   "codemirror_mode": {
    "name": "ipython",
    "version": 3
   },
   "file_extension": ".py",
   "mimetype": "text/x-python",
   "name": "python",
   "nbconvert_exporter": "python",
   "pygments_lexer": "ipython3",
   "version": "3.10.12"
  }
 },
 "nbformat": 4,
 "nbformat_minor": 2
}
